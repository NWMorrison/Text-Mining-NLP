{
 "cells": [
  {
   "metadata": {
    "collapsed": true,
    "ExecuteTime": {
     "end_time": "2025-04-07T04:55:53.656344Z",
     "start_time": "2025-04-07T04:55:48.763665Z"
    }
   },
   "cell_type": "code",
   "source": [
    "\"\"\"Focusing on Anger & Surprise\"\"\"\n",
    "from simpletransformers.classification import ClassificationModel, ClassificationArgs\n",
    "from sklearn.metrics import classification_report\n",
    "import numpy as np\n",
    "import pandas as pd\n",
    "import matplotlib.pyplot as plt"
   ],
   "id": "initial_id",
   "outputs": [],
   "execution_count": 1
  },
  {
   "metadata": {},
   "cell_type": "markdown",
   "source": "# Models",
   "id": "be89f244aa07f66c"
  },
  {
   "metadata": {
    "ExecuteTime": {
     "end_time": "2025-04-07T04:55:56.957495Z",
     "start_time": "2025-04-07T04:55:56.943487Z"
    }
   },
   "cell_type": "code",
   "source": [
    "model_args = ClassificationArgs( # args\n",
    "    num_train_epochs=3, # cycle through data 6 times\n",
    "    overwrite_output_dir=True, # o-write direct\n",
    "    learning_rate=2e-5, # adjust rate\n",
    "    train_batch_size=8, #training batches\n",
    "    eval_batch_size=8,\n",
    "    evaluate_during_training=True, # eval during train\n",
    ")"
   ],
   "id": "b046984981f971de",
   "outputs": [],
   "execution_count": 2
  },
  {
   "metadata": {
    "ExecuteTime": {
     "end_time": "2025-04-07T04:56:06.650907Z",
     "start_time": "2025-04-07T04:56:05.126851Z"
    }
   },
   "cell_type": "code",
   "source": [
    "#considered as the optim.\n",
    "model_distilbert = ClassificationModel('distilbert', 'distilbert-base-uncased', args=model_args , num_labels = 2)"
   ],
   "id": "359c2870edc7e1f6",
   "outputs": [
    {
     "name": "stderr",
     "output_type": "stream",
     "text": [
      "Some weights of DistilBertForSequenceClassification were not initialized from the model checkpoint at distilbert-base-uncased and are newly initialized: ['classifier.bias', 'classifier.weight', 'pre_classifier.bias', 'pre_classifier.weight']\n",
      "You should probably TRAIN this model on a down-stream task to be able to use it for predictions and inference.\n"
     ]
    }
   ],
   "execution_count": 3
  },
  {
   "metadata": {
    "ExecuteTime": {
     "end_time": "2025-04-07T04:56:09.240716Z",
     "start_time": "2025-04-07T04:56:08.907529Z"
    }
   },
   "cell_type": "code",
   "source": "model_roberta = ClassificationModel('roberta', 'roberta-base', args=model_args, num_labels = 2)",
   "id": "a50a97d2fdf76722",
   "outputs": [
    {
     "name": "stderr",
     "output_type": "stream",
     "text": [
      "Some weights of RobertaForSequenceClassification were not initialized from the model checkpoint at roberta-base and are newly initialized: ['classifier.dense.bias', 'classifier.dense.weight', 'classifier.out_proj.bias', 'classifier.out_proj.weight']\n",
      "You should probably TRAIN this model on a down-stream task to be able to use it for predictions and inference.\n"
     ]
    }
   ],
   "execution_count": 4
  },
  {
   "metadata": {},
   "cell_type": "markdown",
   "source": "# Dataset (1)",
   "id": "4a8bf9878b9ae46c"
  },
  {
   "metadata": {},
   "cell_type": "markdown",
   "source": "https://colab.research.google.com/drive/19kBHJfud62yDHubqunrpbUxn_Qg8nJKZ?usp=sharing#scrollTo=ctfhqcQzJEXM",
   "id": "b4a0e52da1a6b700"
  },
  {
   "metadata": {
    "ExecuteTime": {
     "end_time": "2025-04-07T04:56:15.301619Z",
     "start_time": "2025-04-07T04:56:15.272750Z"
    }
   },
   "cell_type": "code",
   "source": [
    "emo_train_df = pd.read_csv('C:\\\\Users\\\\NashW\\PycharmProjects\\\\NeuralNetwork\\\\text_Mining_NLP_FGCU\\\\Datasets\\\\github-train.csv', sep=',')\n",
    "emo_test_df = pd.read_csv('C:\\\\Users\\\\NashW\\PycharmProjects\\\\NeuralNetwork\\\\text_Mining_NLP_FGCU\\\\Datasets\\\\github-test.csv', sep=',')"
   ],
   "id": "46e62a582ff8c7c0",
   "outputs": [],
   "execution_count": 5
  },
  {
   "metadata": {
    "ExecuteTime": {
     "end_time": "2025-04-07T04:56:16.924845Z",
     "start_time": "2025-04-07T04:56:16.913024Z"
    }
   },
   "cell_type": "code",
   "source": [
    "# preprocess (text and labels)\n",
    "train_data = emo_train_df[['modified_comment', 'Anger','Surprise']]\n",
    "test_data = emo_test_df[['modified_comment', 'Anger', 'Surprise']]"
   ],
   "id": "ba68d023d0f21802",
   "outputs": [],
   "execution_count": 6
  },
  {
   "metadata": {
    "ExecuteTime": {
     "end_time": "2025-04-07T04:56:18.866484Z",
     "start_time": "2025-04-07T04:56:18.850395Z"
    }
   },
   "cell_type": "code",
   "source": [
    "# setting our training splits\n",
    "train_data, eval_data = (train_data.iloc[:int(0.8*len(train_data))],\n",
    "                         train_data.iloc[int(0.8*len(train_data)):])\n"
   ],
   "id": "eda8c5f718668882",
   "outputs": [],
   "execution_count": 7
  },
  {
   "metadata": {
    "ExecuteTime": {
     "end_time": "2025-04-07T04:57:41.605754Z",
     "start_time": "2025-04-07T04:56:20.892843Z"
    }
   },
   "cell_type": "code",
   "source": [
    "# Initial training of our first model\n",
    "model_distilbert.train_model(train_data, eval_df=eval_data)"
   ],
   "id": "8d3fd35a074f0bf2",
   "outputs": [
    {
     "name": "stderr",
     "output_type": "stream",
     "text": [
      "C:\\Users\\NashW\\PycharmProjects\\NeuralNetwork\\cuda\\lib\\site-packages\\simpletransformers\\classification\\classification_model.py:610: UserWarning: Dataframe headers not specified. Falling back to using column 0 as text and column 1 as labels.\n",
      "  warnings.warn(\n"
     ]
    },
    {
     "data": {
      "text/plain": [
       "  0%|          | 0/2 [00:00<?, ?it/s]"
      ],
      "application/vnd.jupyter.widget-view+json": {
       "version_major": 2,
       "version_minor": 0,
       "model_id": "763f98af167d4045a8373bb2117c5572"
      }
     },
     "metadata": {},
     "output_type": "display_data"
    },
    {
     "data": {
      "text/plain": [
       "Epoch:   0%|          | 0/3 [00:00<?, ?it/s]"
      ],
      "application/vnd.jupyter.widget-view+json": {
       "version_major": 2,
       "version_minor": 0,
       "model_id": "07e3794ab68d456aa1db0d7133bc4810"
      }
     },
     "metadata": {},
     "output_type": "display_data"
    },
    {
     "name": "stderr",
     "output_type": "stream",
     "text": [
      "C:\\Users\\NashW\\PycharmProjects\\NeuralNetwork\\cuda\\lib\\site-packages\\simpletransformers\\classification\\classification_model.py:882: FutureWarning: `torch.cuda.amp.GradScaler(args...)` is deprecated. Please use `torch.amp.GradScaler('cuda', args...)` instead.\n",
      "  scaler = amp.GradScaler()\n"
     ]
    },
    {
     "data": {
      "text/plain": [
       "Running Epoch 1 of 3:   0%|          | 0/160 [00:00<?, ?it/s]"
      ],
      "application/vnd.jupyter.widget-view+json": {
       "version_major": 2,
       "version_minor": 0,
       "model_id": "4fb43a9b7403406b9227880a2a1b953e"
      }
     },
     "metadata": {},
     "output_type": "display_data"
    },
    {
     "name": "stderr",
     "output_type": "stream",
     "text": [
      "C:\\Users\\NashW\\PycharmProjects\\NeuralNetwork\\cuda\\lib\\site-packages\\simpletransformers\\classification\\classification_model.py:905: FutureWarning: `torch.cuda.amp.autocast(args...)` is deprecated. Please use `torch.amp.autocast('cuda', args...)` instead.\n",
      "  with amp.autocast():\n",
      "C:\\Users\\NashW\\PycharmProjects\\NeuralNetwork\\cuda\\lib\\site-packages\\simpletransformers\\classification\\classification_model.py:1453: UserWarning: Dataframe headers not specified. Falling back to using column 0 as text and column 1 as labels.\n",
      "  warnings.warn(\n"
     ]
    },
    {
     "data": {
      "text/plain": [
       "0it [00:00, ?it/s]"
      ],
      "application/vnd.jupyter.widget-view+json": {
       "version_major": 2,
       "version_minor": 0,
       "model_id": "84f1397c067a42a48621cdd69841f46b"
      }
     },
     "metadata": {},
     "output_type": "display_data"
    },
    {
     "name": "stderr",
     "output_type": "stream",
     "text": [
      "C:\\Users\\NashW\\PycharmProjects\\NeuralNetwork\\cuda\\lib\\site-packages\\simpletransformers\\classification\\classification_model.py:1505: FutureWarning: `torch.cuda.amp.autocast(args...)` is deprecated. Please use `torch.amp.autocast('cuda', args...)` instead.\n",
      "  with amp.autocast():\n",
      "C:\\Users\\NashW\\PycharmProjects\\NeuralNetwork\\cuda\\lib\\site-packages\\sklearn\\metrics\\_ranking.py:1188: UndefinedMetricWarning: No positive samples in y_true, true positive value should be meaningless\n",
      "  warnings.warn(\n",
      "C:\\Users\\NashW\\PycharmProjects\\NeuralNetwork\\cuda\\lib\\site-packages\\sklearn\\metrics\\_ranking.py:1033: UserWarning: No positive class found in y_true, recall is set to one for all thresholds.\n",
      "  warnings.warn(\n"
     ]
    },
    {
     "data": {
      "text/plain": [
       "Running Epoch 2 of 3:   0%|          | 0/160 [00:00<?, ?it/s]"
      ],
      "application/vnd.jupyter.widget-view+json": {
       "version_major": 2,
       "version_minor": 0,
       "model_id": "10d125ba53c94609a876b49038272517"
      }
     },
     "metadata": {},
     "output_type": "display_data"
    },
    {
     "name": "stderr",
     "output_type": "stream",
     "text": [
      "C:\\Users\\NashW\\PycharmProjects\\NeuralNetwork\\cuda\\lib\\site-packages\\simpletransformers\\classification\\classification_model.py:905: FutureWarning: `torch.cuda.amp.autocast(args...)` is deprecated. Please use `torch.amp.autocast('cuda', args...)` instead.\n",
      "  with amp.autocast():\n",
      "C:\\Users\\NashW\\PycharmProjects\\NeuralNetwork\\cuda\\lib\\site-packages\\simpletransformers\\classification\\classification_model.py:1453: UserWarning: Dataframe headers not specified. Falling back to using column 0 as text and column 1 as labels.\n",
      "  warnings.warn(\n"
     ]
    },
    {
     "data": {
      "text/plain": [
       "0it [00:00, ?it/s]"
      ],
      "application/vnd.jupyter.widget-view+json": {
       "version_major": 2,
       "version_minor": 0,
       "model_id": "3d5b483c99df4e63b57ea28d756cb4e2"
      }
     },
     "metadata": {},
     "output_type": "display_data"
    },
    {
     "name": "stderr",
     "output_type": "stream",
     "text": [
      "C:\\Users\\NashW\\PycharmProjects\\NeuralNetwork\\cuda\\lib\\site-packages\\simpletransformers\\classification\\classification_model.py:1505: FutureWarning: `torch.cuda.amp.autocast(args...)` is deprecated. Please use `torch.amp.autocast('cuda', args...)` instead.\n",
      "  with amp.autocast():\n",
      "C:\\Users\\NashW\\PycharmProjects\\NeuralNetwork\\cuda\\lib\\site-packages\\sklearn\\metrics\\_ranking.py:1188: UndefinedMetricWarning: No positive samples in y_true, true positive value should be meaningless\n",
      "  warnings.warn(\n",
      "C:\\Users\\NashW\\PycharmProjects\\NeuralNetwork\\cuda\\lib\\site-packages\\sklearn\\metrics\\_ranking.py:1033: UserWarning: No positive class found in y_true, recall is set to one for all thresholds.\n",
      "  warnings.warn(\n"
     ]
    },
    {
     "data": {
      "text/plain": [
       "Running Epoch 3 of 3:   0%|          | 0/160 [00:00<?, ?it/s]"
      ],
      "application/vnd.jupyter.widget-view+json": {
       "version_major": 2,
       "version_minor": 0,
       "model_id": "12e5fbc035b84008afac4826f7234f33"
      }
     },
     "metadata": {},
     "output_type": "display_data"
    },
    {
     "name": "stderr",
     "output_type": "stream",
     "text": [
      "C:\\Users\\NashW\\PycharmProjects\\NeuralNetwork\\cuda\\lib\\site-packages\\simpletransformers\\classification\\classification_model.py:905: FutureWarning: `torch.cuda.amp.autocast(args...)` is deprecated. Please use `torch.amp.autocast('cuda', args...)` instead.\n",
      "  with amp.autocast():\n",
      "C:\\Users\\NashW\\PycharmProjects\\NeuralNetwork\\cuda\\lib\\site-packages\\simpletransformers\\classification\\classification_model.py:1453: UserWarning: Dataframe headers not specified. Falling back to using column 0 as text and column 1 as labels.\n",
      "  warnings.warn(\n"
     ]
    },
    {
     "data": {
      "text/plain": [
       "0it [00:00, ?it/s]"
      ],
      "application/vnd.jupyter.widget-view+json": {
       "version_major": 2,
       "version_minor": 0,
       "model_id": "df262719ba51465b969e6416f6674968"
      }
     },
     "metadata": {},
     "output_type": "display_data"
    },
    {
     "name": "stderr",
     "output_type": "stream",
     "text": [
      "C:\\Users\\NashW\\PycharmProjects\\NeuralNetwork\\cuda\\lib\\site-packages\\simpletransformers\\classification\\classification_model.py:1505: FutureWarning: `torch.cuda.amp.autocast(args...)` is deprecated. Please use `torch.amp.autocast('cuda', args...)` instead.\n",
      "  with amp.autocast():\n",
      "C:\\Users\\NashW\\PycharmProjects\\NeuralNetwork\\cuda\\lib\\site-packages\\sklearn\\metrics\\_ranking.py:1188: UndefinedMetricWarning: No positive samples in y_true, true positive value should be meaningless\n",
      "  warnings.warn(\n",
      "C:\\Users\\NashW\\PycharmProjects\\NeuralNetwork\\cuda\\lib\\site-packages\\sklearn\\metrics\\_ranking.py:1033: UserWarning: No positive class found in y_true, recall is set to one for all thresholds.\n",
      "  warnings.warn(\n"
     ]
    },
    {
     "data": {
      "text/plain": [
       "(480,\n",
       " defaultdict(list,\n",
       "             {'global_step': [160, 320, 480],\n",
       "              'train_loss': [0.6623420715332031,\n",
       "               0.4143962860107422,\n",
       "               0.31427574157714844],\n",
       "              'mcc': [0.0, 0.0, 0.0],\n",
       "              'accuracy': [0.93125, 0.809375, 0.83125],\n",
       "              'f1_score': [0.48220064724919093,\n",
       "               0.4473229706390328,\n",
       "               0.4539249146757679],\n",
       "              'tp': [0, 0, 0],\n",
       "              'tn': [298, 259, 266],\n",
       "              'fp': [22, 61, 54],\n",
       "              'fn': [0, 0, 0],\n",
       "              'auroc': [nan, nan, nan],\n",
       "              'auprc': [0.0, 0.0, 0.0],\n",
       "              'eval_loss': [0.3437260627746582,\n",
       "               0.35400094985961916,\n",
       "               0.3017214298248291]}))"
      ]
     },
     "execution_count": 8,
     "metadata": {},
     "output_type": "execute_result"
    }
   ],
   "execution_count": 8
  },
  {
   "metadata": {
    "ExecuteTime": {
     "end_time": "2025-04-07T04:58:48.987458Z",
     "start_time": "2025-04-07T04:58:42.014942Z"
    }
   },
   "cell_type": "code",
   "source": [
    "#evaluate the model based on the test data\n",
    "result, model_output, incorrect_predictions = model_distilbert.eval_model(test_data)"
   ],
   "id": "a8189581d9706627",
   "outputs": [
    {
     "name": "stderr",
     "output_type": "stream",
     "text": [
      "C:\\Users\\NashW\\PycharmProjects\\NeuralNetwork\\cuda\\lib\\site-packages\\simpletransformers\\classification\\classification_model.py:1453: UserWarning: Dataframe headers not specified. Falling back to using column 0 as text and column 1 as labels.\n",
      "  warnings.warn(\n"
     ]
    },
    {
     "data": {
      "text/plain": [
       "0it [00:00, ?it/s]"
      ],
      "application/vnd.jupyter.widget-view+json": {
       "version_major": 2,
       "version_minor": 0,
       "model_id": "4f33755c51524451969ee0ed94adff46"
      }
     },
     "metadata": {},
     "output_type": "display_data"
    },
    {
     "data": {
      "text/plain": [
       "Running Evaluation:   0%|          | 0/50 [00:00<?, ?it/s]"
      ],
      "application/vnd.jupyter.widget-view+json": {
       "version_major": 2,
       "version_minor": 0,
       "model_id": "5e5e3c67a5874cb3adb072d69cc2f220"
      }
     },
     "metadata": {},
     "output_type": "display_data"
    },
    {
     "name": "stderr",
     "output_type": "stream",
     "text": [
      "C:\\Users\\NashW\\PycharmProjects\\NeuralNetwork\\cuda\\lib\\site-packages\\simpletransformers\\classification\\classification_model.py:1505: FutureWarning: `torch.cuda.amp.autocast(args...)` is deprecated. Please use `torch.amp.autocast('cuda', args...)` instead.\n",
      "  with amp.autocast():\n"
     ]
    }
   ],
   "execution_count": 9
  },
  {
   "metadata": {
    "ExecuteTime": {
     "end_time": "2025-04-07T04:58:58.384807Z",
     "start_time": "2025-04-07T04:58:51.232981Z"
    }
   },
   "cell_type": "code",
   "source": [
    "# predict emotions\n",
    "predictions = model_distilbert.predict(test_data['modified_comment'].tolist())"
   ],
   "id": "e87ee01120173c98",
   "outputs": [
    {
     "data": {
      "text/plain": [
       "0it [00:00, ?it/s]"
      ],
      "application/vnd.jupyter.widget-view+json": {
       "version_major": 2,
       "version_minor": 0,
       "model_id": "0e411073b29f4097ab15ee9440986fcf"
      }
     },
     "metadata": {},
     "output_type": "display_data"
    },
    {
     "data": {
      "text/plain": [
       "  0%|          | 0/50 [00:00<?, ?it/s]"
      ],
      "application/vnd.jupyter.widget-view+json": {
       "version_major": 2,
       "version_minor": 0,
       "model_id": "f39a39fe2d63415b8a43f506ecba96c9"
      }
     },
     "metadata": {},
     "output_type": "display_data"
    },
    {
     "name": "stderr",
     "output_type": "stream",
     "text": [
      "C:\\Users\\NashW\\PycharmProjects\\NeuralNetwork\\cuda\\lib\\site-packages\\simpletransformers\\classification\\classification_model.py:2188: FutureWarning: `torch.cuda.amp.autocast(args...)` is deprecated. Please use `torch.amp.autocast('cuda', args...)` instead.\n",
      "  with amp.autocast():\n"
     ]
    }
   ],
   "execution_count": 10
  },
  {
   "metadata": {
    "ExecuteTime": {
     "end_time": "2025-04-07T04:59:00.026178Z",
     "start_time": "2025-04-07T04:59:00.019610Z"
    }
   },
   "cell_type": "code",
   "source": [
    "y_test_anger = test_data['Anger'].to_numpy()\n",
    "y_test_surprise = test_data['Surprise'].to_numpy()"
   ],
   "id": "99fac271d6b55011",
   "outputs": [],
   "execution_count": 11
  },
  {
   "metadata": {
    "ExecuteTime": {
     "end_time": "2025-04-07T04:59:01.804988Z",
     "start_time": "2025-04-07T04:59:01.781952Z"
    }
   },
   "cell_type": "code",
   "source": "print(classification_report(y_test_anger, predictions[0]))",
   "id": "363cb72278322cf3",
   "outputs": [
    {
     "name": "stdout",
     "output_type": "stream",
     "text": [
      "              precision    recall  f1-score   support\n",
      "\n",
      "           0       0.89      0.88      0.89       332\n",
      "           1       0.45      0.47      0.46        68\n",
      "\n",
      "    accuracy                           0.81       400\n",
      "   macro avg       0.67      0.68      0.67       400\n",
      "weighted avg       0.82      0.81      0.81       400\n",
      "\n"
     ]
    }
   ],
   "execution_count": 12
  },
  {
   "metadata": {
    "ExecuteTime": {
     "end_time": "2025-04-07T04:59:04.051911Z",
     "start_time": "2025-04-07T04:59:04.030849Z"
    }
   },
   "cell_type": "code",
   "source": "print(classification_report(y_test_surprise, predictions[0]))",
   "id": "f20a7c37273587e4",
   "outputs": [
    {
     "name": "stdout",
     "output_type": "stream",
     "text": [
      "              precision    recall  f1-score   support\n",
      "\n",
      "           0       0.85      0.83      0.84       335\n",
      "           1       0.21      0.23      0.22        65\n",
      "\n",
      "    accuracy                           0.73       400\n",
      "   macro avg       0.53      0.53      0.53       400\n",
      "weighted avg       0.74      0.73      0.74       400\n",
      "\n"
     ]
    }
   ],
   "execution_count": 13
  },
  {
   "metadata": {
    "ExecuteTime": {
     "end_time": "2025-04-07T05:01:40.773877Z",
     "start_time": "2025-04-07T04:59:06.558519Z"
    }
   },
   "cell_type": "code",
   "source": [
    "# Roberta Model\n",
    "model_roberta.train_model(train_data, eval_df=eval_data)"
   ],
   "id": "e70d1bb084354374",
   "outputs": [
    {
     "name": "stderr",
     "output_type": "stream",
     "text": [
      "C:\\Users\\NashW\\PycharmProjects\\NeuralNetwork\\cuda\\lib\\site-packages\\simpletransformers\\classification\\classification_model.py:610: UserWarning: Dataframe headers not specified. Falling back to using column 0 as text and column 1 as labels.\n",
      "  warnings.warn(\n"
     ]
    },
    {
     "data": {
      "text/plain": [
       "  0%|          | 0/2 [00:00<?, ?it/s]"
      ],
      "application/vnd.jupyter.widget-view+json": {
       "version_major": 2,
       "version_minor": 0,
       "model_id": "caeefefde4984fa082d6e263c6a98e0e"
      }
     },
     "metadata": {},
     "output_type": "display_data"
    },
    {
     "data": {
      "text/plain": [
       "Epoch:   0%|          | 0/3 [00:00<?, ?it/s]"
      ],
      "application/vnd.jupyter.widget-view+json": {
       "version_major": 2,
       "version_minor": 0,
       "model_id": "fa3cd005184f435cad69016e7562327b"
      }
     },
     "metadata": {},
     "output_type": "display_data"
    },
    {
     "name": "stderr",
     "output_type": "stream",
     "text": [
      "C:\\Users\\NashW\\PycharmProjects\\NeuralNetwork\\cuda\\lib\\site-packages\\simpletransformers\\classification\\classification_model.py:882: FutureWarning: `torch.cuda.amp.GradScaler(args...)` is deprecated. Please use `torch.amp.GradScaler('cuda', args...)` instead.\n",
      "  scaler = amp.GradScaler()\n"
     ]
    },
    {
     "data": {
      "text/plain": [
       "Running Epoch 1 of 3:   0%|          | 0/160 [00:00<?, ?it/s]"
      ],
      "application/vnd.jupyter.widget-view+json": {
       "version_major": 2,
       "version_minor": 0,
       "model_id": "903bd25cc837491c84908503298122e3"
      }
     },
     "metadata": {},
     "output_type": "display_data"
    },
    {
     "name": "stderr",
     "output_type": "stream",
     "text": [
      "C:\\Users\\NashW\\PycharmProjects\\NeuralNetwork\\cuda\\lib\\site-packages\\simpletransformers\\classification\\classification_model.py:905: FutureWarning: `torch.cuda.amp.autocast(args...)` is deprecated. Please use `torch.amp.autocast('cuda', args...)` instead.\n",
      "  with amp.autocast():\n",
      "C:\\Users\\NashW\\PycharmProjects\\NeuralNetwork\\cuda\\lib\\site-packages\\simpletransformers\\classification\\classification_model.py:1453: UserWarning: Dataframe headers not specified. Falling back to using column 0 as text and column 1 as labels.\n",
      "  warnings.warn(\n"
     ]
    },
    {
     "data": {
      "text/plain": [
       "0it [00:00, ?it/s]"
      ],
      "application/vnd.jupyter.widget-view+json": {
       "version_major": 2,
       "version_minor": 0,
       "model_id": "00d0163fea5a4a42a776b7dcfa5ec439"
      }
     },
     "metadata": {},
     "output_type": "display_data"
    },
    {
     "name": "stderr",
     "output_type": "stream",
     "text": [
      "C:\\Users\\NashW\\PycharmProjects\\NeuralNetwork\\cuda\\lib\\site-packages\\simpletransformers\\classification\\classification_model.py:1505: FutureWarning: `torch.cuda.amp.autocast(args...)` is deprecated. Please use `torch.amp.autocast('cuda', args...)` instead.\n",
      "  with amp.autocast():\n",
      "C:\\Users\\NashW\\PycharmProjects\\NeuralNetwork\\cuda\\lib\\site-packages\\sklearn\\metrics\\_classification.py:407: UserWarning: A single label was found in 'y_true' and 'y_pred'. For the confusion matrix to have the correct shape, use the 'labels' parameter to pass all known labels.\n",
      "  warnings.warn(\n",
      "C:\\Users\\NashW\\PycharmProjects\\NeuralNetwork\\cuda\\lib\\site-packages\\sklearn\\metrics\\_ranking.py:1188: UndefinedMetricWarning: No positive samples in y_true, true positive value should be meaningless\n",
      "  warnings.warn(\n",
      "C:\\Users\\NashW\\PycharmProjects\\NeuralNetwork\\cuda\\lib\\site-packages\\sklearn\\metrics\\_ranking.py:1033: UserWarning: No positive class found in y_true, recall is set to one for all thresholds.\n",
      "  warnings.warn(\n"
     ]
    },
    {
     "data": {
      "text/plain": [
       "Running Epoch 2 of 3:   0%|          | 0/160 [00:00<?, ?it/s]"
      ],
      "application/vnd.jupyter.widget-view+json": {
       "version_major": 2,
       "version_minor": 0,
       "model_id": "525392035b6c4421ad5c554486fccfc5"
      }
     },
     "metadata": {},
     "output_type": "display_data"
    },
    {
     "name": "stderr",
     "output_type": "stream",
     "text": [
      "C:\\Users\\NashW\\PycharmProjects\\NeuralNetwork\\cuda\\lib\\site-packages\\simpletransformers\\classification\\classification_model.py:905: FutureWarning: `torch.cuda.amp.autocast(args...)` is deprecated. Please use `torch.amp.autocast('cuda', args...)` instead.\n",
      "  with amp.autocast():\n",
      "C:\\Users\\NashW\\PycharmProjects\\NeuralNetwork\\cuda\\lib\\site-packages\\simpletransformers\\classification\\classification_model.py:1453: UserWarning: Dataframe headers not specified. Falling back to using column 0 as text and column 1 as labels.\n",
      "  warnings.warn(\n"
     ]
    },
    {
     "data": {
      "text/plain": [
       "0it [00:00, ?it/s]"
      ],
      "application/vnd.jupyter.widget-view+json": {
       "version_major": 2,
       "version_minor": 0,
       "model_id": "667d6a89b5f341dd92b1e239dc099462"
      }
     },
     "metadata": {},
     "output_type": "display_data"
    },
    {
     "name": "stderr",
     "output_type": "stream",
     "text": [
      "C:\\Users\\NashW\\PycharmProjects\\NeuralNetwork\\cuda\\lib\\site-packages\\simpletransformers\\classification\\classification_model.py:1505: FutureWarning: `torch.cuda.amp.autocast(args...)` is deprecated. Please use `torch.amp.autocast('cuda', args...)` instead.\n",
      "  with amp.autocast():\n",
      "C:\\Users\\NashW\\PycharmProjects\\NeuralNetwork\\cuda\\lib\\site-packages\\sklearn\\metrics\\_ranking.py:1188: UndefinedMetricWarning: No positive samples in y_true, true positive value should be meaningless\n",
      "  warnings.warn(\n",
      "C:\\Users\\NashW\\PycharmProjects\\NeuralNetwork\\cuda\\lib\\site-packages\\sklearn\\metrics\\_ranking.py:1033: UserWarning: No positive class found in y_true, recall is set to one for all thresholds.\n",
      "  warnings.warn(\n"
     ]
    },
    {
     "data": {
      "text/plain": [
       "Running Epoch 3 of 3:   0%|          | 0/160 [00:00<?, ?it/s]"
      ],
      "application/vnd.jupyter.widget-view+json": {
       "version_major": 2,
       "version_minor": 0,
       "model_id": "36ccac2b5e1d4f158e6341006d0c1c01"
      }
     },
     "metadata": {},
     "output_type": "display_data"
    },
    {
     "name": "stderr",
     "output_type": "stream",
     "text": [
      "C:\\Users\\NashW\\PycharmProjects\\NeuralNetwork\\cuda\\lib\\site-packages\\simpletransformers\\classification\\classification_model.py:905: FutureWarning: `torch.cuda.amp.autocast(args...)` is deprecated. Please use `torch.amp.autocast('cuda', args...)` instead.\n",
      "  with amp.autocast():\n",
      "C:\\Users\\NashW\\PycharmProjects\\NeuralNetwork\\cuda\\lib\\site-packages\\simpletransformers\\classification\\classification_model.py:1453: UserWarning: Dataframe headers not specified. Falling back to using column 0 as text and column 1 as labels.\n",
      "  warnings.warn(\n"
     ]
    },
    {
     "data": {
      "text/plain": [
       "0it [00:00, ?it/s]"
      ],
      "application/vnd.jupyter.widget-view+json": {
       "version_major": 2,
       "version_minor": 0,
       "model_id": "a94e65a027804c1ebbbe2f3e89d2030d"
      }
     },
     "metadata": {},
     "output_type": "display_data"
    },
    {
     "name": "stderr",
     "output_type": "stream",
     "text": [
      "C:\\Users\\NashW\\PycharmProjects\\NeuralNetwork\\cuda\\lib\\site-packages\\simpletransformers\\classification\\classification_model.py:1505: FutureWarning: `torch.cuda.amp.autocast(args...)` is deprecated. Please use `torch.amp.autocast('cuda', args...)` instead.\n",
      "  with amp.autocast():\n",
      "C:\\Users\\NashW\\PycharmProjects\\NeuralNetwork\\cuda\\lib\\site-packages\\sklearn\\metrics\\_ranking.py:1188: UndefinedMetricWarning: No positive samples in y_true, true positive value should be meaningless\n",
      "  warnings.warn(\n",
      "C:\\Users\\NashW\\PycharmProjects\\NeuralNetwork\\cuda\\lib\\site-packages\\sklearn\\metrics\\_ranking.py:1033: UserWarning: No positive class found in y_true, recall is set to one for all thresholds.\n",
      "  warnings.warn(\n"
     ]
    },
    {
     "data": {
      "text/plain": [
       "(480,\n",
       " defaultdict(list,\n",
       "             {'global_step': [160, 320, 480],\n",
       "              'train_loss': [0.38518333435058594,\n",
       "               0.26589345932006836,\n",
       "               0.09686851501464844],\n",
       "              'mcc': [0.0, 0.0, 0.0],\n",
       "              'accuracy': [1.0, 0.90625, 0.84375],\n",
       "              'f1_score': [1.0, 0.47540983606557374, 0.4576271186440678],\n",
       "              'tp': [0, 0, 0],\n",
       "              'tn': [320, 290, 270],\n",
       "              'fp': [0, 30, 50],\n",
       "              'fn': [0, 0, 0],\n",
       "              'auroc': [nan, nan, nan],\n",
       "              'auprc': [0.0, 0.0, 0.0],\n",
       "              'eval_loss': [0.08381292819976807,\n",
       "               0.21228610277175902,\n",
       "               0.2678683876991272]}))"
      ]
     },
     "execution_count": 14,
     "metadata": {},
     "output_type": "execute_result"
    }
   ],
   "execution_count": 14
  },
  {
   "metadata": {
    "ExecuteTime": {
     "end_time": "2025-04-07T05:02:03.691674Z",
     "start_time": "2025-04-07T05:02:03.447909Z"
    }
   },
   "cell_type": "code",
   "source": [
    "#train_loss': [0.43309783935546875, 0.8048801422119141, 0.042788028717041016]\n",
    "# Define the epochs and corresponding eval_loss values\n",
    "epochs = [1, 2, 3]\n",
    "train_loss = [0.38518333435058594,\n",
    "               0.26589345932006836,\n",
    "               0.09686851501464844]\n",
    "\n",
    "# Create the plot\n",
    "plt.figure(figsize=(8, 6))\n",
    "plt.plot(epochs, train_loss, marker='o', linestyle='-', color='b', label='Training Loss')\n",
    "\n",
    "# Add titles and labels\n",
    "plt.title('Train Loss vs Epochs')\n",
    "plt.xlabel('Epochs')\n",
    "plt.ylabel('Train Loss')\n",
    "plt.xticks(epochs)  # Ensure the x-axis has ticks for each epoch\n",
    "\n",
    "# Display the plot\n",
    "plt.legend()\n",
    "plt.grid(True)\n",
    "plt.show()"
   ],
   "id": "da8bfc0d6c70eb3e",
   "outputs": [
    {
     "data": {
      "text/plain": [
       "<Figure size 800x600 with 1 Axes>"
      ],
      "image/png": "[encoded data removed]"
     },
     "metadata": {},
     "output_type": "display_data"
    }
   ],
   "execution_count": 15
  },
  {
   "metadata": {
    "ExecuteTime": {
     "end_time": "2025-04-07T05:02:24.170937Z",
     "start_time": "2025-04-07T05:02:16.635175Z"
    }
   },
   "cell_type": "code",
   "source": [
    "#evaluate the model based on the test data\n",
    "result, model_output, incorrect_predictions = model_roberta.eval_model(test_data)"
   ],
   "id": "9e5ff62c9c54ad67",
   "outputs": [
    {
     "name": "stderr",
     "output_type": "stream",
     "text": [
      "C:\\Users\\NashW\\PycharmProjects\\NeuralNetwork\\cuda\\lib\\site-packages\\simpletransformers\\classification\\classification_model.py:1453: UserWarning: Dataframe headers not specified. Falling back to using column 0 as text and column 1 as labels.\n",
      "  warnings.warn(\n"
     ]
    },
    {
     "data": {
      "text/plain": [
       "0it [00:00, ?it/s]"
      ],
      "application/vnd.jupyter.widget-view+json": {
       "version_major": 2,
       "version_minor": 0,
       "model_id": "b7e409ea936842c48e1bad4733fc59b8"
      }
     },
     "metadata": {},
     "output_type": "display_data"
    },
    {
     "data": {
      "text/plain": [
       "Running Evaluation:   0%|          | 0/50 [00:00<?, ?it/s]"
      ],
      "application/vnd.jupyter.widget-view+json": {
       "version_major": 2,
       "version_minor": 0,
       "model_id": "e41632cbb9c3417082eeca17570f3ca6"
      }
     },
     "metadata": {},
     "output_type": "display_data"
    },
    {
     "name": "stderr",
     "output_type": "stream",
     "text": [
      "C:\\Users\\NashW\\PycharmProjects\\NeuralNetwork\\cuda\\lib\\site-packages\\simpletransformers\\classification\\classification_model.py:1505: FutureWarning: `torch.cuda.amp.autocast(args...)` is deprecated. Please use `torch.amp.autocast('cuda', args...)` instead.\n",
      "  with amp.autocast():\n"
     ]
    }
   ],
   "execution_count": 16
  },
  {
   "metadata": {
    "ExecuteTime": {
     "end_time": "2025-04-07T05:02:34.391210Z",
     "start_time": "2025-04-07T05:02:26.759488Z"
    }
   },
   "cell_type": "code",
   "source": [
    "# predict emotions\n",
    "predictions = model_roberta.predict(test_data['modified_comment'].tolist())"
   ],
   "id": "1accb804f09c7fa7",
   "outputs": [
    {
     "data": {
      "text/plain": [
       "0it [00:00, ?it/s]"
      ],
      "application/vnd.jupyter.widget-view+json": {
       "version_major": 2,
       "version_minor": 0,
       "model_id": "139c2c8263b94721b756e04bb90814f3"
      }
     },
     "metadata": {},
     "output_type": "display_data"
    },
    {
     "data": {
      "text/plain": [
       "  0%|          | 0/50 [00:00<?, ?it/s]"
      ],
      "application/vnd.jupyter.widget-view+json": {
       "version_major": 2,
       "version_minor": 0,
       "model_id": "00a60857532a46f59435b1f6a70e8e59"
      }
     },
     "metadata": {},
     "output_type": "display_data"
    },
    {
     "name": "stderr",
     "output_type": "stream",
     "text": [
      "C:\\Users\\NashW\\PycharmProjects\\NeuralNetwork\\cuda\\lib\\site-packages\\simpletransformers\\classification\\classification_model.py:2188: FutureWarning: `torch.cuda.amp.autocast(args...)` is deprecated. Please use `torch.amp.autocast('cuda', args...)` instead.\n",
      "  with amp.autocast():\n"
     ]
    }
   ],
   "execution_count": 17
  },
  {
   "metadata": {
    "ExecuteTime": {
     "end_time": "2025-04-07T05:02:38.042932Z",
     "start_time": "2025-04-07T05:02:38.030694Z"
    }
   },
   "cell_type": "code",
   "source": [
    "y_test_anger = test_data['Anger'].to_numpy()\n",
    "y_test_surprise = test_data['Surprise'].to_numpy()"
   ],
   "id": "c07a7b946aea350c",
   "outputs": [],
   "execution_count": 18
  },
  {
   "metadata": {
    "ExecuteTime": {
     "end_time": "2025-04-07T05:02:39.997577Z",
     "start_time": "2025-04-07T05:02:39.987547Z"
    }
   },
   "cell_type": "code",
   "source": "print(classification_report(y_test_anger, predictions[0]))",
   "id": "455f060b6b098d93",
   "outputs": [
    {
     "name": "stdout",
     "output_type": "stream",
     "text": [
      "              precision    recall  f1-score   support\n",
      "\n",
      "           0       0.89      0.89      0.89       332\n",
      "           1       0.46      0.47      0.47        68\n",
      "\n",
      "    accuracy                           0.82       400\n",
      "   macro avg       0.68      0.68      0.68       400\n",
      "weighted avg       0.82      0.82      0.82       400\n",
      "\n"
     ]
    }
   ],
   "execution_count": 19
  },
  {
   "metadata": {
    "ExecuteTime": {
     "end_time": "2025-04-07T05:02:41.649911Z",
     "start_time": "2025-04-07T05:02:41.635157Z"
    }
   },
   "cell_type": "code",
   "source": "print(classification_report(y_test_surprise, predictions[0]))",
   "id": "7fbd246ee554b50",
   "outputs": [
    {
     "name": "stdout",
     "output_type": "stream",
     "text": [
      "              precision    recall  f1-score   support\n",
      "\n",
      "           0       0.83      0.82      0.83       335\n",
      "           1       0.14      0.15      0.15        65\n",
      "\n",
      "    accuracy                           0.71       400\n",
      "   macro avg       0.49      0.49      0.49       400\n",
      "weighted avg       0.72      0.71      0.72       400\n",
      "\n"
     ]
    }
   ],
   "execution_count": 20
  },
  {
   "metadata": {},
   "cell_type": "markdown",
   "source": "# Dataset (2) Go Emotions",
   "id": "c462068ab8f99107"
  },
  {
   "metadata": {
    "ExecuteTime": {
     "end_time": "2025-04-07T05:03:19.835669Z",
     "start_time": "2025-04-07T05:03:19.168549Z"
    }
   },
   "cell_type": "code",
   "source": [
    "\"\"\"https://github.com/google-research/google-research/tree/master/goemotions\"\"\"\n",
    "\n",
    "go_emotions = pd.read_csv('https://raw.githubusercontent.com/google-research/google-research/refs/heads/master/goemotions/data/train.tsv', sep='\\t')\n",
    "go_emotions.columns =  [\"text\",\"targets\",\"id\"]\n",
    "\n",
    "#go_emotions[\"targets\"] = go_emotions[\"targets\"].to_numpy()\n",
    "#go_emotions[\"text\"] = go_emotions[\"text\"].astype(str).tolist()\n",
    "\n",
    "go_emotions[\"targets\"].value_counts()\n",
    "#Size of dataset = 43,410 rows"
   ],
   "id": "7ee645303ac56bb4",
   "outputs": [
    {
     "data": {
      "text/plain": [
       "targets\n",
       "27           12822\n",
       "0             2710\n",
       "4             1873\n",
       "15            1857\n",
       "1             1652\n",
       "             ...  \n",
       "6,15,22          1\n",
       "9,10,19          1\n",
       "7,10,25          1\n",
       "7,9,24,25        1\n",
       "0,1,18           1\n",
       "Name: count, Length: 711, dtype: int64"
      ]
     },
     "execution_count": 21,
     "metadata": {},
     "output_type": "execute_result"
    }
   ],
   "execution_count": 21
  },
  {
   "metadata": {},
   "cell_type": "code",
   "source": [
    "#Testing features\n",
    "string_rows = go_emotions[\"text\"].astype(str).tolist()\n",
    "string_rows"
   ],
   "id": "74e64ff72aac771f",
   "outputs": [],
   "execution_count": null
  },
  {
   "metadata": {},
   "cell_type": "code",
   "source": [
    "#Testing labels\n",
    "target_rows = go_emotions[\"targets\"].astype(str).tolist()\n",
    "target_rows"
   ],
   "id": "a7b2a1add7a071d9",
   "outputs": [],
   "execution_count": null
  },
  {
   "metadata": {
    "ExecuteTime": {
     "end_time": "2025-04-07T04:31:14.785638Z",
     "start_time": "2025-04-07T04:31:14.748874Z"
    }
   },
   "cell_type": "code",
   "source": [
    "import re\n",
    "t = []\n",
    "for row in target_rows:\n",
    "    t.extend(re.findall(r'\\b2\\b', row))"
   ],
   "id": "de47c84410b4c5e1",
   "outputs": [],
   "execution_count": 86
  },
  {
   "metadata": {
    "ExecuteTime": {
     "end_time": "2025-04-07T05:03:58.253492Z",
     "start_time": "2025-04-07T05:03:58.246406Z"
    }
   },
   "cell_type": "code",
   "source": [
    "go_emotions[\"text\"] = string_rows\n",
    "go_emotions[\"text\"]"
   ],
   "id": "671c9b7b1268a61d",
   "outputs": [
    {
     "data": {
      "text/plain": [
       "0        Now if he does off himself, everyone will thin...\n",
       "1                           WHY THE FUCK IS BAYLESS ISOING\n",
       "2                              To make her feel threatened\n",
       "3                                   Dirty Southern Wankers\n",
       "4        OmG pEyToN iSn'T gOoD eNoUgH tO hElP uS iN tHe...\n",
       "                               ...                        \n",
       "43404    Added you mate well I’ve just got the bow and ...\n",
       "43405    Always thought that was funny but is it a refe...\n",
       "43406    What are you talking about? Anything bad that ...\n",
       "43407              More like a baptism, with sexy results!\n",
       "43408                                      Enjoy the ride!\n",
       "Name: text, Length: 43409, dtype: object"
      ]
     },
     "execution_count": 24,
     "metadata": {},
     "output_type": "execute_result"
    }
   ],
   "execution_count": 24
  },
  {
   "metadata": {
    "ExecuteTime": {
     "end_time": "2025-04-07T05:04:01.436356Z",
     "start_time": "2025-04-07T05:04:01.360814Z"
    }
   },
   "cell_type": "code",
   "source": [
    "#Library for cleaning our text\n",
    "\n",
    "#Removing any user handles\n",
    "import neattext.functions as nfx\n",
    "go_emotions[\"Clean_txt\"] = go_emotions[\"text\"].apply(nfx.remove_userhandles)"
   ],
   "id": "15159cbda1e22dca",
   "outputs": [],
   "execution_count": 25
  },
  {
   "metadata": {
    "ExecuteTime": {
     "end_time": "2025-04-07T05:04:03.511339Z",
     "start_time": "2025-04-07T05:04:03.364721Z"
    }
   },
   "cell_type": "code",
   "source": [
    "#Removing any stopwords\n",
    "go_emotions[\"Clean_txt\"] = go_emotions[\"Clean_txt\"].apply(nfx.remove_stopwords)"
   ],
   "id": "b1b5ce7255d3a4fb",
   "outputs": [],
   "execution_count": 26
  },
  {
   "metadata": {
    "ExecuteTime": {
     "end_time": "2025-04-07T05:04:04.750716Z",
     "start_time": "2025-04-07T05:04:04.741615Z"
    }
   },
   "cell_type": "code",
   "source": "go_emotions[\"Clean_txt\"]",
   "id": "f664340dfde59db6",
   "outputs": [
    {
     "data": {
      "text/plain": [
       "0        himself, think hes laugh screwing people inste...\n",
       "1                                      FUCK BAYLESS ISOING\n",
       "2                                          feel threatened\n",
       "3                                   Dirty Southern Wankers\n",
       "4        OmG pEyToN gOoD hElP PlAyOfFs! Dumbass Broncos...\n",
       "                               ...                        \n",
       "43404    Added mate I’ve got bow love hunting aspect ga...\n",
       "43405                    thought funny reference anything?\n",
       "43406    talking about? bad happened [NAME] fault - goo...\n",
       "43407                          like baptism, sexy results!\n",
       "43408                                          Enjoy ride!\n",
       "Name: Clean_txt, Length: 43409, dtype: object"
      ]
     },
     "execution_count": 27,
     "metadata": {},
     "output_type": "execute_result"
    }
   ],
   "execution_count": 27
  },
  {
   "metadata": {
    "ExecuteTime": {
     "end_time": "2025-04-07T05:04:08.148779Z",
     "start_time": "2025-04-07T05:04:08.135049Z"
    }
   },
   "cell_type": "code",
   "source": [
    "# 2, 14, 17, 18, 25, 26\n",
    "# Those emotions covered in first dataset\n",
    "#  Anger(2), Surprise(26) == (Nash)\n",
    "#   Joy(17), Sadness(25)  == (Isaiah)\n",
    "#  Love(18), Fear(14)     == (Catalina)\n",
    "\n",
    "#This is more of a reference as you go along\n",
    "emotion_targets = {\n",
    "                  0  : \"admiration\",\n",
    "                  1  : \"amusement\",\n",
    "                  2  : \"anger\",\n",
    "                  3  : \"annoyance\",\n",
    "                  4  : \"approval\",\n",
    "                  5  : \"caring\",\n",
    "                  6  : \"confusion\",\n",
    "                  7  : \"curiosity\",\n",
    "                  8  : \"desire\",\n",
    "                  9  : \"disappointment\",\n",
    "                  10 : \"disapproval\",\n",
    "                  11 : \"disgust\",\n",
    "                  12 : \"embarrassment\",\n",
    "                  13 : \"excitement\",\n",
    "                  14 : \"fear\",\n",
    "                  15 : \"gratitude\",\n",
    "                  16 : \"grief\",\n",
    "                  17 : \"joy\",\n",
    "                  18 : \"love\",\n",
    "                  19 : \"nervousness\",\n",
    "                  20 : \"optimism\",\n",
    "                  21 : \"pride\",\n",
    "                  22 : \"realization\",\n",
    "                  23 : \"relief\",\n",
    "                  24 : \"remorse\",\n",
    "                  25 : \"sadness\",\n",
    "                  26 : \"surprise\",\n",
    "                  27 : \"neutral\"\n",
    "}"
   ],
   "id": "12ba8fe976b55abe",
   "outputs": [],
   "execution_count": 28
  },
  {
   "metadata": {
    "ExecuteTime": {
     "end_time": "2025-04-07T05:04:11.553652Z",
     "start_time": "2025-04-07T05:04:11.477697Z"
    }
   },
   "cell_type": "code",
   "source": [
    "# Specifically pulling anger and surprise, avoiding similar string-like classes\n",
    "import re\n",
    "\n",
    "go_emotions[\"anger\"] = [1 if re.search(r'\\b2\\b', str(row)) else 0 for row in go_emotions[\"targets\"]]\n",
    "\n",
    "go_emotions[\"surprise\"] = [1 if re.search(r'\\b26\\b', str(row)) else 0 for row in go_emotions[\"targets\"]]"
   ],
   "id": "8ee37d05bc232570",
   "outputs": [],
   "execution_count": 29
  },
  {
   "metadata": {
    "ExecuteTime": {
     "end_time": "2025-04-07T05:04:15.988680Z",
     "start_time": "2025-04-07T05:04:15.977622Z"
    }
   },
   "cell_type": "code",
   "source": [
    "test = pd.concat([go_emotions[\"Clean_txt\"], go_emotions[\"anger\"], go_emotions[\"surprise\"]], axis=1)\n",
    "go_emotions"
   ],
   "id": "2b70e81973d89faf",
   "outputs": [
    {
     "data": {
      "text/plain": [
       "                                                    text targets       id  \\\n",
       "0      Now if he does off himself, everyone will thin...      27  ed00q6i   \n",
       "1                         WHY THE FUCK IS BAYLESS ISOING       2  eezlygj   \n",
       "2                            To make her feel threatened      14  ed7ypvh   \n",
       "3                                 Dirty Southern Wankers       3  ed0bdzj   \n",
       "4      OmG pEyToN iSn'T gOoD eNoUgH tO hElP uS iN tHe...      26  edvnz26   \n",
       "...                                                  ...     ...      ...   \n",
       "43404  Added you mate well I’ve just got the bow and ...      18  edsb738   \n",
       "43405  Always thought that was funny but is it a refe...       6  ee7fdou   \n",
       "43406  What are you talking about? Anything bad that ...       3  efgbhks   \n",
       "43407            More like a baptism, with sexy results!      13  ed1naf8   \n",
       "43408                                    Enjoy the ride!      17  eecwmbq   \n",
       "\n",
       "                                               Clean_txt  anger  surprise  \n",
       "0      himself, think hes laugh screwing people inste...      0         0  \n",
       "1                                    FUCK BAYLESS ISOING      1         0  \n",
       "2                                        feel threatened      0         0  \n",
       "3                                 Dirty Southern Wankers      0         0  \n",
       "4      OmG pEyToN gOoD hElP PlAyOfFs! Dumbass Broncos...      0         1  \n",
       "...                                                  ...    ...       ...  \n",
       "43404  Added mate I’ve got bow love hunting aspect ga...      0         0  \n",
       "43405                  thought funny reference anything?      0         0  \n",
       "43406  talking about? bad happened [NAME] fault - goo...      0         0  \n",
       "43407                        like baptism, sexy results!      0         0  \n",
       "43408                                        Enjoy ride!      0         0  \n",
       "\n",
       "[43409 rows x 6 columns]"
      ],
      "text/html": [
       "<div>\n",
       "<style scoped>\n",
       "    .dataframe tbody tr th:only-of-type {\n",
       "        vertical-align: middle;\n",
       "    }\n",
       "\n",
       "    .dataframe tbody tr th {\n",
       "        vertical-align: top;\n",
       "    }\n",
       "\n",
       "    .dataframe thead th {\n",
       "        text-align: right;\n",
       "    }\n",
       "</style>\n",
       "<table border=\"1\" class=\"dataframe\">\n",
       "  <thead>\n",
       "    <tr style=\"text-align: right;\">\n",
       "      <th></th>\n",
       "      <th>text</th>\n",
       "      <th>targets</th>\n",
       "      <th>id</th>\n",
       "      <th>Clean_txt</th>\n",
       "      <th>anger</th>\n",
       "      <th>surprise</th>\n",
       "    </tr>\n",
       "  </thead>\n",
       "  <tbody>\n",
       "    <tr>\n",
       "      <th>0</th>\n",
       "      <td>Now if he does off himself, everyone will thin...</td>\n",
       "      <td>27</td>\n",
       "      <td>ed00q6i</td>\n",
       "      <td>himself, think hes laugh screwing people inste...</td>\n",
       "      <td>0</td>\n",
       "      <td>0</td>\n",
       "    </tr>\n",
       "    <tr>\n",
       "      <th>1</th>\n",
       "      <td>WHY THE FUCK IS BAYLESS ISOING</td>\n",
       "      <td>2</td>\n",
       "      <td>eezlygj</td>\n",
       "      <td>FUCK BAYLESS ISOING</td>\n",
       "      <td>1</td>\n",
       "      <td>0</td>\n",
       "    </tr>\n",
       "    <tr>\n",
       "      <th>2</th>\n",
       "      <td>To make her feel threatened</td>\n",
       "      <td>14</td>\n",
       "      <td>ed7ypvh</td>\n",
       "      <td>feel threatened</td>\n",
       "      <td>0</td>\n",
       "      <td>0</td>\n",
       "    </tr>\n",
       "    <tr>\n",
       "      <th>3</th>\n",
       "      <td>Dirty Southern Wankers</td>\n",
       "      <td>3</td>\n",
       "      <td>ed0bdzj</td>\n",
       "      <td>Dirty Southern Wankers</td>\n",
       "      <td>0</td>\n",
       "      <td>0</td>\n",
       "    </tr>\n",
       "    <tr>\n",
       "      <th>4</th>\n",
       "      <td>OmG pEyToN iSn'T gOoD eNoUgH tO hElP uS iN tHe...</td>\n",
       "      <td>26</td>\n",
       "      <td>edvnz26</td>\n",
       "      <td>OmG pEyToN gOoD hElP PlAyOfFs! Dumbass Broncos...</td>\n",
       "      <td>0</td>\n",
       "      <td>1</td>\n",
       "    </tr>\n",
       "    <tr>\n",
       "      <th>...</th>\n",
       "      <td>...</td>\n",
       "      <td>...</td>\n",
       "      <td>...</td>\n",
       "      <td>...</td>\n",
       "      <td>...</td>\n",
       "      <td>...</td>\n",
       "    </tr>\n",
       "    <tr>\n",
       "      <th>43404</th>\n",
       "      <td>Added you mate well I’ve just got the bow and ...</td>\n",
       "      <td>18</td>\n",
       "      <td>edsb738</td>\n",
       "      <td>Added mate I’ve got bow love hunting aspect ga...</td>\n",
       "      <td>0</td>\n",
       "      <td>0</td>\n",
       "    </tr>\n",
       "    <tr>\n",
       "      <th>43405</th>\n",
       "      <td>Always thought that was funny but is it a refe...</td>\n",
       "      <td>6</td>\n",
       "      <td>ee7fdou</td>\n",
       "      <td>thought funny reference anything?</td>\n",
       "      <td>0</td>\n",
       "      <td>0</td>\n",
       "    </tr>\n",
       "    <tr>\n",
       "      <th>43406</th>\n",
       "      <td>What are you talking about? Anything bad that ...</td>\n",
       "      <td>3</td>\n",
       "      <td>efgbhks</td>\n",
       "      <td>talking about? bad happened [NAME] fault - goo...</td>\n",
       "      <td>0</td>\n",
       "      <td>0</td>\n",
       "    </tr>\n",
       "    <tr>\n",
       "      <th>43407</th>\n",
       "      <td>More like a baptism, with sexy results!</td>\n",
       "      <td>13</td>\n",
       "      <td>ed1naf8</td>\n",
       "      <td>like baptism, sexy results!</td>\n",
       "      <td>0</td>\n",
       "      <td>0</td>\n",
       "    </tr>\n",
       "    <tr>\n",
       "      <th>43408</th>\n",
       "      <td>Enjoy the ride!</td>\n",
       "      <td>17</td>\n",
       "      <td>eecwmbq</td>\n",
       "      <td>Enjoy ride!</td>\n",
       "      <td>0</td>\n",
       "      <td>0</td>\n",
       "    </tr>\n",
       "  </tbody>\n",
       "</table>\n",
       "<p>43409 rows × 6 columns</p>\n",
       "</div>"
      ]
     },
     "execution_count": 30,
     "metadata": {},
     "output_type": "execute_result"
    }
   ],
   "execution_count": 30
  },
  {
   "metadata": {
    "ExecuteTime": {
     "end_time": "2025-04-07T05:04:21.235120Z",
     "start_time": "2025-04-07T05:04:21.223603Z"
    }
   },
   "cell_type": "code",
   "source": [
    "train_df_data = go_emotions[[\"Clean_txt\", \"anger\", \"surprise\"]]\n",
    "test_df_data = go_emotions[[\"Clean_txt\", \"anger\", \"surprise\"]]\n",
    "train_df_data[:10000]"
   ],
   "id": "d206f2d1fc96cbec",
   "outputs": [
    {
     "data": {
      "text/plain": [
       "                                              Clean_txt  anger  surprise\n",
       "0     himself, think hes laugh screwing people inste...      0         0\n",
       "1                                   FUCK BAYLESS ISOING      1         0\n",
       "2                                       feel threatened      0         0\n",
       "3                                Dirty Southern Wankers      0         0\n",
       "4     OmG pEyToN gOoD hElP PlAyOfFs! Dumbass Broncos...      0         1\n",
       "...                                                 ...    ...       ...\n",
       "9995   Meh, liga knew loved went away [NAME] fled Italy      0         0\n",
       "9996  Meteor Man Edit: Hancock superhero movie terri...      0         0\n",
       "9997                                              true.      0         0\n",
       "9998  guy kept jumping bridge Eichenwald death over....      0         0\n",
       "9999            Quick... there's boot licked today yet!      0         0\n",
       "\n",
       "[10000 rows x 3 columns]"
      ],
      "text/html": [
       "<div>\n",
       "<style scoped>\n",
       "    .dataframe tbody tr th:only-of-type {\n",
       "        vertical-align: middle;\n",
       "    }\n",
       "\n",
       "    .dataframe tbody tr th {\n",
       "        vertical-align: top;\n",
       "    }\n",
       "\n",
       "    .dataframe thead th {\n",
       "        text-align: right;\n",
       "    }\n",
       "</style>\n",
       "<table border=\"1\" class=\"dataframe\">\n",
       "  <thead>\n",
       "    <tr style=\"text-align: right;\">\n",
       "      <th></th>\n",
       "      <th>Clean_txt</th>\n",
       "      <th>anger</th>\n",
       "      <th>surprise</th>\n",
       "    </tr>\n",
       "  </thead>\n",
       "  <tbody>\n",
       "    <tr>\n",
       "      <th>0</th>\n",
       "      <td>himself, think hes laugh screwing people inste...</td>\n",
       "      <td>0</td>\n",
       "      <td>0</td>\n",
       "    </tr>\n",
       "    <tr>\n",
       "      <th>1</th>\n",
       "      <td>FUCK BAYLESS ISOING</td>\n",
       "      <td>1</td>\n",
       "      <td>0</td>\n",
       "    </tr>\n",
       "    <tr>\n",
       "      <th>2</th>\n",
       "      <td>feel threatened</td>\n",
       "      <td>0</td>\n",
       "      <td>0</td>\n",
       "    </tr>\n",
       "    <tr>\n",
       "      <th>3</th>\n",
       "      <td>Dirty Southern Wankers</td>\n",
       "      <td>0</td>\n",
       "      <td>0</td>\n",
       "    </tr>\n",
       "    <tr>\n",
       "      <th>4</th>\n",
       "      <td>OmG pEyToN gOoD hElP PlAyOfFs! Dumbass Broncos...</td>\n",
       "      <td>0</td>\n",
       "      <td>1</td>\n",
       "    </tr>\n",
       "    <tr>\n",
       "      <th>...</th>\n",
       "      <td>...</td>\n",
       "      <td>...</td>\n",
       "      <td>...</td>\n",
       "    </tr>\n",
       "    <tr>\n",
       "      <th>9995</th>\n",
       "      <td>Meh, liga knew loved went away [NAME] fled Italy</td>\n",
       "      <td>0</td>\n",
       "      <td>0</td>\n",
       "    </tr>\n",
       "    <tr>\n",
       "      <th>9996</th>\n",
       "      <td>Meteor Man Edit: Hancock superhero movie terri...</td>\n",
       "      <td>0</td>\n",
       "      <td>0</td>\n",
       "    </tr>\n",
       "    <tr>\n",
       "      <th>9997</th>\n",
       "      <td>true.</td>\n",
       "      <td>0</td>\n",
       "      <td>0</td>\n",
       "    </tr>\n",
       "    <tr>\n",
       "      <th>9998</th>\n",
       "      <td>guy kept jumping bridge Eichenwald death over....</td>\n",
       "      <td>0</td>\n",
       "      <td>0</td>\n",
       "    </tr>\n",
       "    <tr>\n",
       "      <th>9999</th>\n",
       "      <td>Quick... there's boot licked today yet!</td>\n",
       "      <td>0</td>\n",
       "      <td>0</td>\n",
       "    </tr>\n",
       "  </tbody>\n",
       "</table>\n",
       "<p>10000 rows × 3 columns</p>\n",
       "</div>"
      ]
     },
     "execution_count": 31,
     "metadata": {},
     "output_type": "execute_result"
    }
   ],
   "execution_count": 31
  },
  {
   "metadata": {
    "ExecuteTime": {
     "end_time": "2025-04-07T05:04:25.158509Z",
     "start_time": "2025-04-07T05:04:25.154969Z"
    }
   },
   "cell_type": "code",
   "source": [
    "# use to eval during training\n",
    "train_data, eval_data = (train_df_data.iloc[  :int(0.8*len(train_df_data[0:10000]))],\n",
    "                         train_df_data.iloc[int(0.8*len(train_df_data[0:10000])):  ])\n"
   ],
   "id": "b9f23529092ad4d6",
   "outputs": [],
   "execution_count": 32
  },
  {
   "metadata": {
    "ExecuteTime": {
     "end_time": "2025-04-07T05:04:27.003244Z",
     "start_time": "2025-04-07T05:04:26.998238Z"
    }
   },
   "cell_type": "code",
   "source": "eval_data.shape",
   "id": "c6fc28185447e5d0",
   "outputs": [
    {
     "data": {
      "text/plain": [
       "(35409, 3)"
      ]
     },
     "execution_count": 33,
     "metadata": {},
     "output_type": "execute_result"
    }
   ],
   "execution_count": 33
  },
  {
   "metadata": {
    "ExecuteTime": {
     "end_time": "2025-04-07T05:26:57.066403Z",
     "start_time": "2025-04-07T05:04:30.371795Z"
    }
   },
   "cell_type": "code",
   "source": "model_roberta.train_model(train_data, eval_df=eval_data)",
   "id": "753b630f9b3f941",
   "outputs": [
    {
     "name": "stderr",
     "output_type": "stream",
     "text": [
      "C:\\Users\\NashW\\PycharmProjects\\NeuralNetwork\\cuda\\lib\\site-packages\\simpletransformers\\classification\\classification_model.py:610: UserWarning: Dataframe headers not specified. Falling back to using column 0 as text and column 1 as labels.\n",
      "  warnings.warn(\n"
     ]
    },
    {
     "data": {
      "text/plain": [
       "  0%|          | 0/16 [00:00<?, ?it/s]"
      ],
      "application/vnd.jupyter.widget-view+json": {
       "version_major": 2,
       "version_minor": 0,
       "model_id": "1404c625d18c46c1a127a3dd470fc968"
      }
     },
     "metadata": {},
     "output_type": "display_data"
    },
    {
     "data": {
      "text/plain": [
       "Epoch:   0%|          | 0/3 [00:00<?, ?it/s]"
      ],
      "application/vnd.jupyter.widget-view+json": {
       "version_major": 2,
       "version_minor": 0,
       "model_id": "9570d2e67de6439991a68b8b98d9eeda"
      }
     },
     "metadata": {},
     "output_type": "display_data"
    },
    {
     "name": "stderr",
     "output_type": "stream",
     "text": [
      "C:\\Users\\NashW\\PycharmProjects\\NeuralNetwork\\cuda\\lib\\site-packages\\simpletransformers\\classification\\classification_model.py:882: FutureWarning: `torch.cuda.amp.GradScaler(args...)` is deprecated. Please use `torch.amp.GradScaler('cuda', args...)` instead.\n",
      "  scaler = amp.GradScaler()\n"
     ]
    },
    {
     "data": {
      "text/plain": [
       "Running Epoch 1 of 3:   0%|          | 0/1000 [00:00<?, ?it/s]"
      ],
      "application/vnd.jupyter.widget-view+json": {
       "version_major": 2,
       "version_minor": 0,
       "model_id": "366282548e0d4ff6a261eb4a218f4193"
      }
     },
     "metadata": {},
     "output_type": "display_data"
    },
    {
     "name": "stderr",
     "output_type": "stream",
     "text": [
      "C:\\Users\\NashW\\PycharmProjects\\NeuralNetwork\\cuda\\lib\\site-packages\\simpletransformers\\classification\\classification_model.py:905: FutureWarning: `torch.cuda.amp.autocast(args...)` is deprecated. Please use `torch.amp.autocast('cuda', args...)` instead.\n",
      "  with amp.autocast():\n",
      "C:\\Users\\NashW\\PycharmProjects\\NeuralNetwork\\cuda\\lib\\site-packages\\torch\\optim\\lr_scheduler.py:227: UserWarning: Detected call of `lr_scheduler.step()` before `optimizer.step()`. In PyTorch 1.1.0 and later, you should call them in the opposite order: `optimizer.step()` before `lr_scheduler.step()`.  Failure to do this will result in PyTorch skipping the first value of the learning rate schedule. See more details at https://pytorch.org/docs/stable/optim.html#how-to-adjust-learning-rate\n",
      "  warnings.warn(\n",
      "C:\\Users\\NashW\\PycharmProjects\\NeuralNetwork\\cuda\\lib\\site-packages\\simpletransformers\\classification\\classification_model.py:1453: UserWarning: Dataframe headers not specified. Falling back to using column 0 as text and column 1 as labels.\n",
      "  warnings.warn(\n"
     ]
    },
    {
     "data": {
      "text/plain": [
       "  0%|          | 0/70 [00:00<?, ?it/s]"
      ],
      "application/vnd.jupyter.widget-view+json": {
       "version_major": 2,
       "version_minor": 0,
       "model_id": "63a0cd3165d04e98a9fa048a5cd73f09"
      }
     },
     "metadata": {},
     "output_type": "display_data"
    },
    {
     "name": "stderr",
     "output_type": "stream",
     "text": [
      "C:\\Users\\NashW\\PycharmProjects\\NeuralNetwork\\cuda\\lib\\site-packages\\simpletransformers\\classification\\classification_model.py:1505: FutureWarning: `torch.cuda.amp.autocast(args...)` is deprecated. Please use `torch.amp.autocast('cuda', args...)` instead.\n",
      "  with amp.autocast():\n"
     ]
    },
    {
     "data": {
      "text/plain": [
       "Running Epoch 2 of 3:   0%|          | 0/1000 [00:00<?, ?it/s]"
      ],
      "application/vnd.jupyter.widget-view+json": {
       "version_major": 2,
       "version_minor": 0,
       "model_id": "217252544139486e9d7054faac9e5f0f"
      }
     },
     "metadata": {},
     "output_type": "display_data"
    },
    {
     "name": "stderr",
     "output_type": "stream",
     "text": [
      "C:\\Users\\NashW\\PycharmProjects\\NeuralNetwork\\cuda\\lib\\site-packages\\simpletransformers\\classification\\classification_model.py:905: FutureWarning: `torch.cuda.amp.autocast(args...)` is deprecated. Please use `torch.amp.autocast('cuda', args...)` instead.\n",
      "  with amp.autocast():\n",
      "C:\\Users\\NashW\\PycharmProjects\\NeuralNetwork\\cuda\\lib\\site-packages\\simpletransformers\\classification\\classification_model.py:1453: UserWarning: Dataframe headers not specified. Falling back to using column 0 as text and column 1 as labels.\n",
      "  warnings.warn(\n"
     ]
    },
    {
     "data": {
      "text/plain": [
       "  0%|          | 0/70 [00:00<?, ?it/s]"
      ],
      "application/vnd.jupyter.widget-view+json": {
       "version_major": 2,
       "version_minor": 0,
       "model_id": "7270196ce61a44a2b07e82f3f9b467cb"
      }
     },
     "metadata": {},
     "output_type": "display_data"
    },
    {
     "name": "stderr",
     "output_type": "stream",
     "text": [
      "C:\\Users\\NashW\\PycharmProjects\\NeuralNetwork\\cuda\\lib\\site-packages\\simpletransformers\\classification\\classification_model.py:1505: FutureWarning: `torch.cuda.amp.autocast(args...)` is deprecated. Please use `torch.amp.autocast('cuda', args...)` instead.\n",
      "  with amp.autocast():\n",
      "C:\\Users\\NashW\\PycharmProjects\\NeuralNetwork\\cuda\\lib\\site-packages\\simpletransformers\\classification\\classification_model.py:1453: UserWarning: Dataframe headers not specified. Falling back to using column 0 as text and column 1 as labels.\n",
      "  warnings.warn(\n"
     ]
    },
    {
     "data": {
      "text/plain": [
       "  0%|          | 0/70 [00:00<?, ?it/s]"
      ],
      "application/vnd.jupyter.widget-view+json": {
       "version_major": 2,
       "version_minor": 0,
       "model_id": "61ce8f4d4d9c411892a914e9699a5d60"
      }
     },
     "metadata": {},
     "output_type": "display_data"
    },
    {
     "name": "stderr",
     "output_type": "stream",
     "text": [
      "C:\\Users\\NashW\\PycharmProjects\\NeuralNetwork\\cuda\\lib\\site-packages\\simpletransformers\\classification\\classification_model.py:1505: FutureWarning: `torch.cuda.amp.autocast(args...)` is deprecated. Please use `torch.amp.autocast('cuda', args...)` instead.\n",
      "  with amp.autocast():\n"
     ]
    },
    {
     "data": {
      "text/plain": [
       "Running Epoch 3 of 3:   0%|          | 0/1000 [00:00<?, ?it/s]"
      ],
      "application/vnd.jupyter.widget-view+json": {
       "version_major": 2,
       "version_minor": 0,
       "model_id": "4678607b32924feea063177c65f3597b"
      }
     },
     "metadata": {},
     "output_type": "display_data"
    },
    {
     "name": "stderr",
     "output_type": "stream",
     "text": [
      "C:\\Users\\NashW\\PycharmProjects\\NeuralNetwork\\cuda\\lib\\site-packages\\simpletransformers\\classification\\classification_model.py:905: FutureWarning: `torch.cuda.amp.autocast(args...)` is deprecated. Please use `torch.amp.autocast('cuda', args...)` instead.\n",
      "  with amp.autocast():\n",
      "C:\\Users\\NashW\\PycharmProjects\\NeuralNetwork\\cuda\\lib\\site-packages\\simpletransformers\\classification\\classification_model.py:1453: UserWarning: Dataframe headers not specified. Falling back to using column 0 as text and column 1 as labels.\n",
      "  warnings.warn(\n"
     ]
    },
    {
     "data": {
      "text/plain": [
       "  0%|          | 0/70 [00:00<?, ?it/s]"
      ],
      "application/vnd.jupyter.widget-view+json": {
       "version_major": 2,
       "version_minor": 0,
       "model_id": "a48a59404d414d8994f710435bf90be1"
      }
     },
     "metadata": {},
     "output_type": "display_data"
    },
    {
     "name": "stderr",
     "output_type": "stream",
     "text": [
      "C:\\Users\\NashW\\PycharmProjects\\NeuralNetwork\\cuda\\lib\\site-packages\\simpletransformers\\classification\\classification_model.py:1505: FutureWarning: `torch.cuda.amp.autocast(args...)` is deprecated. Please use `torch.amp.autocast('cuda', args...)` instead.\n",
      "  with amp.autocast():\n"
     ]
    },
    {
     "data": {
      "text/plain": [
       "(3000,\n",
       " defaultdict(list,\n",
       "             {'global_step': [1000, 2000, 2000, 3000],\n",
       "              'train_loss': [0.001577138900756836,\n",
       "               0.23310434818267822,\n",
       "               0.23310434818267822,\n",
       "               0.0013056397438049316],\n",
       "              'mcc': [0.37432046086500753,\n",
       "               0.389930802064812,\n",
       "               0.389930802064812,\n",
       "               0.387232420383696],\n",
       "              'accuracy': [0.9634556186280324,\n",
       "               0.9628060662543421,\n",
       "               0.9628060662543421,\n",
       "               0.9592758903103731],\n",
       "              'f1_score': [0.6813123819368836,\n",
       "               0.6917632375848333,\n",
       "               0.6917632375848333,\n",
       "               0.6932363843945294],\n",
       "              'tp': [399, 444, 444, 496],\n",
       "              'tn': [33716, 33648, 33648, 33471],\n",
       "              'fp': [406, 474, 474, 651],\n",
       "              'fn': [888, 843, 843, 791],\n",
       "              'auroc': [0.8916617105029273,\n",
       "               0.886158444581163,\n",
       "               0.886158444581163,\n",
       "               0.8894676772731985],\n",
       "              'auprc': [0.38169666380193523,\n",
       "               0.3663623067441677,\n",
       "               0.3663623067441677,\n",
       "               0.3713972350016947],\n",
       "              'eval_loss': [0.13536213350155996,\n",
       "               0.17852038873461804,\n",
       "               0.17852038873461804,\n",
       "               0.19445478755274717]}))"
      ]
     },
     "execution_count": 34,
     "metadata": {},
     "output_type": "execute_result"
    }
   ],
   "execution_count": 34
  },
  {
   "metadata": {
    "ExecuteTime": {
     "end_time": "2025-04-07T05:27:34.854727Z",
     "start_time": "2025-04-07T05:27:34.664636Z"
    }
   },
   "cell_type": "code",
   "source": [
    "# Define the epochs and corresponding train_loss values from above\n",
    "epochs = [1, 2, 2, 3]\n",
    "train_loss = [0.001577138900756836,\n",
    "              0.23310434818267822,\n",
    "              0.23310434818267822,\n",
    "              0.0013056397438049316]\n",
    "\n",
    "# Create the plot\n",
    "plt.figure(figsize=(8, 6))\n",
    "plt.plot(epochs, train_loss, marker='o', linestyle='-', color='b', label='Training Loss')\n",
    "\n",
    "# Add titles and labels\n",
    "plt.title('Train Loss vs Epochs')\n",
    "plt.xlabel('Epochs')\n",
    "plt.ylabel('Train Loss')\n",
    "plt.xticks(epochs)  # Ensure the x-axis has ticks for each epoch\n",
    "\n",
    "# Display the plot\n",
    "plt.legend()\n",
    "plt.grid(True)\n",
    "plt.show()"
   ],
   "id": "b2567c99bf6e0d6f",
   "outputs": [
    {
     "data": {
      "text/plain": [
       "<Figure size 800x600 with 1 Axes>"
      ],
      "image/png": "[encoded data removed]"
     },
     "metadata": {},
     "output_type": "display_data"
    }
   ],
   "execution_count": 35
  },
  {
   "metadata": {
    "ExecuteTime": {
     "end_time": "2025-04-07T05:30:57.710465Z",
     "start_time": "2025-04-07T05:27:51.451630Z"
    }
   },
   "cell_type": "code",
   "source": [
    "#evaluate the model based on the test data\n",
    "result, model_output, incorrect_predictions = model_roberta.eval_model(test_df_data)\n"
   ],
   "id": "725b89f6cc96d12",
   "outputs": [
    {
     "name": "stderr",
     "output_type": "stream",
     "text": [
      "C:\\Users\\NashW\\PycharmProjects\\NeuralNetwork\\cuda\\lib\\site-packages\\simpletransformers\\classification\\classification_model.py:1453: UserWarning: Dataframe headers not specified. Falling back to using column 0 as text and column 1 as labels.\n",
      "  warnings.warn(\n"
     ]
    },
    {
     "data": {
      "text/plain": [
       "  0%|          | 0/86 [00:00<?, ?it/s]"
      ],
      "application/vnd.jupyter.widget-view+json": {
       "version_major": 2,
       "version_minor": 0,
       "model_id": "1a273704bc054d4a99f2baaee5bb8e4e"
      }
     },
     "metadata": {},
     "output_type": "display_data"
    },
    {
     "data": {
      "text/plain": [
       "Running Evaluation:   0%|          | 0/5427 [00:00<?, ?it/s]"
      ],
      "application/vnd.jupyter.widget-view+json": {
       "version_major": 2,
       "version_minor": 0,
       "model_id": "d7819d71ca4649a0823744ae633ffc36"
      }
     },
     "metadata": {},
     "output_type": "display_data"
    },
    {
     "name": "stderr",
     "output_type": "stream",
     "text": [
      "C:\\Users\\NashW\\PycharmProjects\\NeuralNetwork\\cuda\\lib\\site-packages\\simpletransformers\\classification\\classification_model.py:1505: FutureWarning: `torch.cuda.amp.autocast(args...)` is deprecated. Please use `torch.amp.autocast('cuda', args...)` instead.\n",
      "  with amp.autocast():\n"
     ]
    }
   ],
   "execution_count": 36
  },
  {
   "metadata": {
    "ExecuteTime": {
     "end_time": "2025-04-07T05:31:00.632598Z",
     "start_time": "2025-04-07T05:31:00.617035Z"
    }
   },
   "cell_type": "code",
   "source": "print(result)",
   "id": "ca9ead4fb203c859",
   "outputs": [
    {
     "name": "stdout",
     "output_type": "stream",
     "text": [
      "{'mcc': 0.46346007824966506, 'accuracy': 0.9645465226105185, 'f1_score': 0.7312954017398431, 'tp': 713, 'tn': 41157, 'fp': 685, 'fn': 854, 'auroc': 0.9067187508531426, 'auprc': 0.4682701521976558, 'eval_loss': 0.16857722570207737}\n"
     ]
    }
   ],
   "execution_count": 37
  },
  {
   "metadata": {
    "ExecuteTime": {
     "end_time": "2025-04-07T05:34:45.194630Z",
     "start_time": "2025-04-07T05:31:03.975198Z"
    }
   },
   "cell_type": "code",
   "source": "pred = model_roberta.predict(test_df_data[\"Clean_txt\"].tolist())\n",
   "id": "a45de64d53daeb39",
   "outputs": [
    {
     "data": {
      "text/plain": [
       "  0%|          | 0/86 [00:00<?, ?it/s]"
      ],
      "application/vnd.jupyter.widget-view+json": {
       "version_major": 2,
       "version_minor": 0,
       "model_id": "3ea3a17986784d44971786e6465e6867"
      }
     },
     "metadata": {},
     "output_type": "display_data"
    },
    {
     "data": {
      "text/plain": [
       "  0%|          | 0/5427 [00:00<?, ?it/s]"
      ],
      "application/vnd.jupyter.widget-view+json": {
       "version_major": 2,
       "version_minor": 0,
       "model_id": "2588dc1911d34f96a5dd82e2cd5ebbb6"
      }
     },
     "metadata": {},
     "output_type": "display_data"
    },
    {
     "name": "stderr",
     "output_type": "stream",
     "text": [
      "C:\\Users\\NashW\\PycharmProjects\\NeuralNetwork\\cuda\\lib\\site-packages\\simpletransformers\\classification\\classification_model.py:2188: FutureWarning: `torch.cuda.amp.autocast(args...)` is deprecated. Please use `torch.amp.autocast('cuda', args...)` instead.\n",
      "  with amp.autocast():\n"
     ]
    }
   ],
   "execution_count": 38
  },
  {
   "metadata": {
    "ExecuteTime": {
     "end_time": "2025-04-07T05:34:53.432834Z",
     "start_time": "2025-04-07T05:34:53.423316Z"
    }
   },
   "cell_type": "code",
   "source": "from sklearn.metrics import classification_report",
   "id": "66d2396b8a407f6c",
   "outputs": [],
   "execution_count": 39
  },
  {
   "metadata": {
    "ExecuteTime": {
     "end_time": "2025-04-07T05:58:34.475082Z",
     "start_time": "2025-04-07T05:58:34.450247Z"
    }
   },
   "cell_type": "code",
   "source": [
    "y_test = test_df_data[\"anger\"].to_numpy()\n",
    "\n",
    "print(classification_report(y_test,\n",
    "                            pred[0],\n",
    "                            digits=4,\n",
    "                            target_names=['Negative','Positive']))"
   ],
   "id": "535e2d3d5cf5f1a7",
   "outputs": [
    {
     "name": "stdout",
     "output_type": "stream",
     "text": [
      "              precision    recall  f1-score   support\n",
      "\n",
      "    Negative     0.9810    0.9840    0.9825     41842\n",
      "    Positive     0.5351    0.4914    0.5123      1567\n",
      "\n",
      "    accuracy                         0.9662     43409\n",
      "   macro avg     0.7581    0.7377    0.7474     43409\n",
      "weighted avg     0.9649    0.9662    0.9655     43409\n",
      "\n"
     ]
    }
   ],
   "execution_count": 60
  },
  {
   "metadata": {
    "ExecuteTime": {
     "end_time": "2025-04-07T05:58:36.614221Z",
     "start_time": "2025-04-07T05:58:36.311819Z"
    }
   },
   "cell_type": "code",
   "source": [
    "from seaborn import heatmap\n",
    "import seaborn as sns\n",
    "import matplotlib.pyplot as plt\n",
    "from sklearn.metrics import precision_score, recall_score, f1_score\n",
    "from sklearn.metrics import confusion_matrix\n",
    "\n",
    "\n",
    "\n",
    "\n",
    "y_prediction_cm_1 = pred[0]\n",
    "cm1 = confusion_matrix(y_test, y_prediction_cm_1)\n",
    "\n",
    "## Accuracy Per Matrix is under each Graph\n",
    "# Creating a heatmap visualization of the confusion matrix.\n",
    "ax = sns.heatmap(cm1,\n",
    "                annot=True,\n",
    "                fmt='d',\n",
    "                cmap='crest',\n",
    "                linewidth=1,\n",
    "                xticklabels=['Negative [0]', 'Positive [1]'],\n",
    "                yticklabels=['Negative [0]', 'Positive [1]'])\n",
    "\n",
    "## Configuring Orientation of labels\n",
    "ax.xaxis.tick_top()\n",
    "ax.set_yticklabels(ax.get_yticklabels(), rotation=0)\n",
    "\n",
    "\n",
    "accuracy_cm1 = np.sum(np.diag(cm1)) / np.sum(cm1)\n",
    "\n",
    "# Precision, Recall, and F1 Score Metrics\n",
    "precision_cm1 = precision_score(y_test,\n",
    "                                y_prediction_cm_1,\n",
    "                                average='weighted',\n",
    "                                zero_division=0)\n",
    "\n",
    "\n",
    "recall_cm1 = recall_score(y_test,\n",
    "                          y_prediction_cm_1,\n",
    "                          average='weighted')\n",
    "\n",
    "f1_cm1 = f1_score(y_test,\n",
    "                  y_prediction_cm_1,\n",
    "                  average='weighted')\n",
    "\n",
    "\n",
    "plt.title(f\"Confusion Matrix Heatmap\\nRoberta Predicting Anger \\\n",
    "\\n Accuracy-Score: {accuracy_cm1*100:.2f}%\\nPrecision: {precision_cm1*100:.2f}%\\n\\\n",
    "Recall: {recall_cm1*100:.2f}%\\nF1: {f1_cm1*100:.2f}%\\n\")\n",
    "plt.ylabel('<--True Label-->\\n')\n",
    "plt.xlabel('\\n<--Predicted Label-->')\n",
    "\n",
    "plt.show()\n",
    "\n",
    "## The Heatmap is flipped, but you are absolutely allowed to do so since our\n",
    "## diagonal is correct with TP and TN\n",
    "\n",
    "# 00 --> TN\n",
    "# 01 --> FP\n",
    "# 11 --> TP"
   ],
   "id": "c523be1fb436a66d",
   "outputs": [
    {
     "data": {
      "text/plain": [
       "<Figure size 640x480 with 2 Axes>"
      ],
      "image/png": "[encoded data removed]"
     },
     "metadata": {},
     "output_type": "display_data"
    }
   ],
   "execution_count": 61
  },
  {
   "metadata": {
    "ExecuteTime": {
     "end_time": "2025-04-07T05:58:07.944243Z",
     "start_time": "2025-04-07T05:58:07.914383Z"
    }
   },
   "cell_type": "code",
   "source": [
    "y_test2 = test_df_data[\"surprise\"].to_numpy()\n",
    "\n",
    "print(classification_report(y_test2,\n",
    "                            pred[0],\n",
    "                            digits=4,\n",
    "                            target_names=['Negative','Positive']))"
   ],
   "id": "e8b08f30c49b5b94",
   "outputs": [
    {
     "name": "stdout",
     "output_type": "stream",
     "text": [
      "              precision    recall  f1-score   support\n",
      "\n",
      "    Negative     0.9751    0.9664    0.9707     42349\n",
      "    Positive     0.0097    0.0132    0.0112      1060\n",
      "\n",
      "    accuracy                         0.9431     43409\n",
      "   macro avg     0.4924    0.4898    0.4909     43409\n",
      "weighted avg     0.9515    0.9431    0.9473     43409\n",
      "\n"
     ]
    }
   ],
   "execution_count": 58
  },
  {
   "metadata": {
    "ExecuteTime": {
     "end_time": "2025-04-07T05:58:14.513156Z",
     "start_time": "2025-04-07T05:58:14.351334Z"
    }
   },
   "cell_type": "code",
   "source": [
    "y_prediction_cm_1 = pred[0]\n",
    "cm1 = confusion_matrix(y_test2, y_prediction_cm_1)\n",
    "\n",
    "## Accuracy Per Matrix is under each Graph\n",
    "# Creating a heatmap visualization of the confusion matrix.\n",
    "ax = sns.heatmap(cm1,\n",
    "                annot=True,\n",
    "                fmt='d',\n",
    "                cmap='crest',\n",
    "                linewidth=1,\n",
    "                xticklabels=['Negative [0]', 'Positive [1]'],\n",
    "                yticklabels=['Negative [0]', 'Positive [1]'])\n",
    "\n",
    "## Configuring Orientation of labels\n",
    "ax.xaxis.tick_top()\n",
    "ax.set_yticklabels(ax.get_yticklabels(), rotation=0)\n",
    "\n",
    "\n",
    "accuracy_cm1 = np.sum(np.diag(cm1)) / np.sum(cm1)\n",
    "\n",
    "# Precision, Recall, and F1 Score Metrics\n",
    "precision_cm1 = precision_score(y_test2,\n",
    "                                y_prediction_cm_1,\n",
    "                                average='weighted',\n",
    "                                zero_division=0)\n",
    "\n",
    "\n",
    "recall_cm1 = recall_score(y_test2,\n",
    "                          y_prediction_cm_1,\n",
    "                          average='weighted')\n",
    "\n",
    "f1_cm1 = f1_score(y_test2,\n",
    "                  y_prediction_cm_1,\n",
    "                  average='weighted')\n",
    "\n",
    "\n",
    "plt.title(f\"Confusion Matrix Heatmap\\nRoberta Predicting Surprised \\\n",
    "\\n Accuracy-Score: {accuracy_cm1*100:.2f}%\\nPrecision: {precision_cm1*100:.2f}%\\n\\\n",
    "Recall: {recall_cm1*100:.2f}%\\nF1: {f1_cm1*100:.2f}%\\n\")\n",
    "plt.ylabel('<--True Label-->\\n')\n",
    "plt.xlabel('\\n<--Predicted Label-->')\n",
    "\n",
    "plt.show()\n",
    "\n",
    "## The Heatmap is flipped, but you are absolutely allowed to do so since our\n",
    "## diagonal is correct with TP and TN\n",
    "\n",
    "# 00 --> TN\n",
    "# 01 --> FP\n",
    "# 11 --> TP\n",
    "# 10 --> FN"
   ],
   "id": "78339621338ec262",
   "outputs": [
    {
     "data": {
      "text/plain": [
       "<Figure size 640x480 with 2 Axes>"
      ],
      "image/png": "[encoded data removed]"
     },
     "metadata": {},
     "output_type": "display_data"
    }
   ],
   "execution_count": 59
  },
  {
   "metadata": {
    "ExecuteTime": {
     "end_time": "2025-04-07T05:48:38.491228Z",
     "start_time": "2025-04-07T05:35:31.403662Z"
    }
   },
   "cell_type": "code",
   "source": "model_distilbert.train_model(train_data, eval_df=eval_data)",
   "id": "4eba26184aea1802",
   "outputs": [
    {
     "name": "stderr",
     "output_type": "stream",
     "text": [
      "C:\\Users\\NashW\\PycharmProjects\\NeuralNetwork\\cuda\\lib\\site-packages\\simpletransformers\\classification\\classification_model.py:610: UserWarning: Dataframe headers not specified. Falling back to using column 0 as text and column 1 as labels.\n",
      "  warnings.warn(\n"
     ]
    },
    {
     "data": {
      "text/plain": [
       "  0%|          | 0/16 [00:00<?, ?it/s]"
      ],
      "application/vnd.jupyter.widget-view+json": {
       "version_major": 2,
       "version_minor": 0,
       "model_id": "04355ea5a07e478a9278c63d2fffa6f1"
      }
     },
     "metadata": {},
     "output_type": "display_data"
    },
    {
     "data": {
      "text/plain": [
       "Epoch:   0%|          | 0/3 [00:00<?, ?it/s]"
      ],
      "application/vnd.jupyter.widget-view+json": {
       "version_major": 2,
       "version_minor": 0,
       "model_id": "0818538bafa348f6abde671267b40a3e"
      }
     },
     "metadata": {},
     "output_type": "display_data"
    },
    {
     "name": "stderr",
     "output_type": "stream",
     "text": [
      "C:\\Users\\NashW\\PycharmProjects\\NeuralNetwork\\cuda\\lib\\site-packages\\simpletransformers\\classification\\classification_model.py:882: FutureWarning: `torch.cuda.amp.GradScaler(args...)` is deprecated. Please use `torch.amp.GradScaler('cuda', args...)` instead.\n",
      "  scaler = amp.GradScaler()\n"
     ]
    },
    {
     "data": {
      "text/plain": [
       "Running Epoch 1 of 3:   0%|          | 0/1000 [00:00<?, ?it/s]"
      ],
      "application/vnd.jupyter.widget-view+json": {
       "version_major": 2,
       "version_minor": 0,
       "model_id": "e2abc7ea9b8741289ae194785df7bfc9"
      }
     },
     "metadata": {},
     "output_type": "display_data"
    },
    {
     "name": "stderr",
     "output_type": "stream",
     "text": [
      "C:\\Users\\NashW\\PycharmProjects\\NeuralNetwork\\cuda\\lib\\site-packages\\simpletransformers\\classification\\classification_model.py:905: FutureWarning: `torch.cuda.amp.autocast(args...)` is deprecated. Please use `torch.amp.autocast('cuda', args...)` instead.\n",
      "  with amp.autocast():\n",
      "C:\\Users\\NashW\\PycharmProjects\\NeuralNetwork\\cuda\\lib\\site-packages\\simpletransformers\\classification\\classification_model.py:1453: UserWarning: Dataframe headers not specified. Falling back to using column 0 as text and column 1 as labels.\n",
      "  warnings.warn(\n"
     ]
    },
    {
     "data": {
      "text/plain": [
       "  0%|          | 0/70 [00:00<?, ?it/s]"
      ],
      "application/vnd.jupyter.widget-view+json": {
       "version_major": 2,
       "version_minor": 0,
       "model_id": "fb0dda55ccc947819902932926b0483a"
      }
     },
     "metadata": {},
     "output_type": "display_data"
    },
    {
     "name": "stderr",
     "output_type": "stream",
     "text": [
      "C:\\Users\\NashW\\PycharmProjects\\NeuralNetwork\\cuda\\lib\\site-packages\\simpletransformers\\classification\\classification_model.py:1505: FutureWarning: `torch.cuda.amp.autocast(args...)` is deprecated. Please use `torch.amp.autocast('cuda', args...)` instead.\n",
      "  with amp.autocast():\n"
     ]
    },
    {
     "data": {
      "text/plain": [
       "Running Epoch 2 of 3:   0%|          | 0/1000 [00:00<?, ?it/s]"
      ],
      "application/vnd.jupyter.widget-view+json": {
       "version_major": 2,
       "version_minor": 0,
       "model_id": "5f901e2a2d18475db3e6d4320a34047b"
      }
     },
     "metadata": {},
     "output_type": "display_data"
    },
    {
     "name": "stderr",
     "output_type": "stream",
     "text": [
      "C:\\Users\\NashW\\PycharmProjects\\NeuralNetwork\\cuda\\lib\\site-packages\\simpletransformers\\classification\\classification_model.py:905: FutureWarning: `torch.cuda.amp.autocast(args...)` is deprecated. Please use `torch.amp.autocast('cuda', args...)` instead.\n",
      "  with amp.autocast():\n",
      "C:\\Users\\NashW\\PycharmProjects\\NeuralNetwork\\cuda\\lib\\site-packages\\simpletransformers\\classification\\classification_model.py:1453: UserWarning: Dataframe headers not specified. Falling back to using column 0 as text and column 1 as labels.\n",
      "  warnings.warn(\n"
     ]
    },
    {
     "data": {
      "text/plain": [
       "  0%|          | 0/70 [00:00<?, ?it/s]"
      ],
      "application/vnd.jupyter.widget-view+json": {
       "version_major": 2,
       "version_minor": 0,
       "model_id": "df0f1760681e43a1b7cf3c484fa4389e"
      }
     },
     "metadata": {},
     "output_type": "display_data"
    },
    {
     "name": "stderr",
     "output_type": "stream",
     "text": [
      "C:\\Users\\NashW\\PycharmProjects\\NeuralNetwork\\cuda\\lib\\site-packages\\simpletransformers\\classification\\classification_model.py:1505: FutureWarning: `torch.cuda.amp.autocast(args...)` is deprecated. Please use `torch.amp.autocast('cuda', args...)` instead.\n",
      "  with amp.autocast():\n",
      "C:\\Users\\NashW\\PycharmProjects\\NeuralNetwork\\cuda\\lib\\site-packages\\simpletransformers\\classification\\classification_model.py:1453: UserWarning: Dataframe headers not specified. Falling back to using column 0 as text and column 1 as labels.\n",
      "  warnings.warn(\n"
     ]
    },
    {
     "data": {
      "text/plain": [
       "  0%|          | 0/70 [00:00<?, ?it/s]"
      ],
      "application/vnd.jupyter.widget-view+json": {
       "version_major": 2,
       "version_minor": 0,
       "model_id": "341a1372c0564f92898a69baac36ac6e"
      }
     },
     "metadata": {},
     "output_type": "display_data"
    },
    {
     "name": "stderr",
     "output_type": "stream",
     "text": [
      "C:\\Users\\NashW\\PycharmProjects\\NeuralNetwork\\cuda\\lib\\site-packages\\simpletransformers\\classification\\classification_model.py:1505: FutureWarning: `torch.cuda.amp.autocast(args...)` is deprecated. Please use `torch.amp.autocast('cuda', args...)` instead.\n",
      "  with amp.autocast():\n"
     ]
    },
    {
     "data": {
      "text/plain": [
       "Running Epoch 3 of 3:   0%|          | 0/1000 [00:00<?, ?it/s]"
      ],
      "application/vnd.jupyter.widget-view+json": {
       "version_major": 2,
       "version_minor": 0,
       "model_id": "647527858597400d8e482efc8df5d8f0"
      }
     },
     "metadata": {},
     "output_type": "display_data"
    },
    {
     "name": "stderr",
     "output_type": "stream",
     "text": [
      "C:\\Users\\NashW\\PycharmProjects\\NeuralNetwork\\cuda\\lib\\site-packages\\simpletransformers\\classification\\classification_model.py:905: FutureWarning: `torch.cuda.amp.autocast(args...)` is deprecated. Please use `torch.amp.autocast('cuda', args...)` instead.\n",
      "  with amp.autocast():\n",
      "C:\\Users\\NashW\\PycharmProjects\\NeuralNetwork\\cuda\\lib\\site-packages\\simpletransformers\\classification\\classification_model.py:1453: UserWarning: Dataframe headers not specified. Falling back to using column 0 as text and column 1 as labels.\n",
      "  warnings.warn(\n"
     ]
    },
    {
     "data": {
      "text/plain": [
       "  0%|          | 0/70 [00:00<?, ?it/s]"
      ],
      "application/vnd.jupyter.widget-view+json": {
       "version_major": 2,
       "version_minor": 0,
       "model_id": "6fbc84ac17e345fb9a7ea44f4664b9ce"
      }
     },
     "metadata": {},
     "output_type": "display_data"
    },
    {
     "name": "stderr",
     "output_type": "stream",
     "text": [
      "C:\\Users\\NashW\\PycharmProjects\\NeuralNetwork\\cuda\\lib\\site-packages\\simpletransformers\\classification\\classification_model.py:1505: FutureWarning: `torch.cuda.amp.autocast(args...)` is deprecated. Please use `torch.amp.autocast('cuda', args...)` instead.\n",
      "  with amp.autocast():\n"
     ]
    },
    {
     "data": {
      "text/plain": [
       "(3000,\n",
       " defaultdict(list,\n",
       "             {'global_step': [1000, 2000, 2000, 3000],\n",
       "              'train_loss': [0.001717209815979004,\n",
       "               0.000852733850479126,\n",
       "               0.000852733850479126,\n",
       "               0.0006740391254425049],\n",
       "              'mcc': [0.32649626609026283,\n",
       "               0.37144901727926743,\n",
       "               0.37144901727926743,\n",
       "               0.4020971964876041],\n",
       "              'accuracy': [0.9659691039001383,\n",
       "               0.9667598633115875,\n",
       "               0.9667598633115875,\n",
       "               0.9596430286085459],\n",
       "              'f1_score': [0.6366627844305777,\n",
       "               0.6657944547662682,\n",
       "               0.6657944547662682,\n",
       "               0.7008585126982037],\n",
       "              'tp': [247, 315, 315, 523],\n",
       "              'tn': [33957, 33917, 33917, 33457],\n",
       "              'fp': [165, 205, 205, 665],\n",
       "              'fn': [1040, 972, 972, 764],\n",
       "              'auroc': [0.8975312179110315,\n",
       "               0.8763775641742937,\n",
       "               0.8763775641742937,\n",
       "               0.8897933973105416],\n",
       "              'auprc': [0.38366488681953465,\n",
       "               0.38598979789042,\n",
       "               0.38598979789042,\n",
       "               0.38628604535877253],\n",
       "              'eval_loss': [0.13695164171922872,\n",
       "               0.17672856645845844,\n",
       "               0.17672856645845844,\n",
       "               0.19368028894541411]}))"
      ]
     },
     "execution_count": 44,
     "metadata": {},
     "output_type": "execute_result"
    }
   ],
   "execution_count": 44
  },
  {
   "metadata": {
    "ExecuteTime": {
     "end_time": "2025-04-07T05:49:07.849278Z",
     "start_time": "2025-04-07T05:49:07.681528Z"
    }
   },
   "cell_type": "code",
   "source": [
    "# Define the epochs and corresponding train_loss values from above\n",
    "epochs = [1, 2, 2, 3]\n",
    "train_loss = [0.001717209815979004,\n",
    "              0.000852733850479126,\n",
    "              0.000852733850479126,\n",
    "              0.0006740391254425049]\n",
    "\n",
    "# Create the plot\n",
    "plt.figure(figsize=(8, 6))\n",
    "plt.plot(epochs, train_loss, marker='o', linestyle='-', color='b', label='Training Loss')\n",
    "\n",
    "# Add titles and labels\n",
    "plt.title('Train Loss vs Epochs')\n",
    "plt.xlabel('Epochs')\n",
    "plt.ylabel('Train Loss')\n",
    "plt.xticks(epochs)  # Ensure the x-axis has ticks for each epoch\n",
    "\n",
    "# Display the plot\n",
    "plt.legend()\n",
    "plt.grid(True)\n",
    "plt.show()"
   ],
   "id": "983c68783051c7dd",
   "outputs": [
    {
     "data": {
      "text/plain": [
       "<Figure size 800x600 with 1 Axes>"
      ],
      "image/png": "[encoded data removed]"
     },
     "metadata": {},
     "output_type": "display_data"
    }
   ],
   "execution_count": 45
  },
  {
   "metadata": {
    "ExecuteTime": {
     "end_time": "2025-04-07T05:51:06.404015Z",
     "start_time": "2025-04-07T05:49:20.218985Z"
    }
   },
   "cell_type": "code",
   "source": [
    "#evaluate the model based on the test data\n",
    "result, model_output, incorrect_predictions = model_distilbert.eval_model(test_df_data)"
   ],
   "id": "120de1e1fe734866",
   "outputs": [
    {
     "name": "stderr",
     "output_type": "stream",
     "text": [
      "C:\\Users\\NashW\\PycharmProjects\\NeuralNetwork\\cuda\\lib\\site-packages\\simpletransformers\\classification\\classification_model.py:1453: UserWarning: Dataframe headers not specified. Falling back to using column 0 as text and column 1 as labels.\n",
      "  warnings.warn(\n"
     ]
    },
    {
     "data": {
      "text/plain": [
       "  0%|          | 0/86 [00:00<?, ?it/s]"
      ],
      "application/vnd.jupyter.widget-view+json": {
       "version_major": 2,
       "version_minor": 0,
       "model_id": "e02dfefe2a75427cae2caf27cdaace2d"
      }
     },
     "metadata": {},
     "output_type": "display_data"
    },
    {
     "data": {
      "text/plain": [
       "Running Evaluation:   0%|          | 0/5427 [00:00<?, ?it/s]"
      ],
      "application/vnd.jupyter.widget-view+json": {
       "version_major": 2,
       "version_minor": 0,
       "model_id": "b4e6a7062a28426ea85068e3960bfd15"
      }
     },
     "metadata": {},
     "output_type": "display_data"
    },
    {
     "name": "stderr",
     "output_type": "stream",
     "text": [
      "C:\\Users\\NashW\\PycharmProjects\\NeuralNetwork\\cuda\\lib\\site-packages\\simpletransformers\\classification\\classification_model.py:1505: FutureWarning: `torch.cuda.amp.autocast(args...)` is deprecated. Please use `torch.amp.autocast('cuda', args...)` instead.\n",
      "  with amp.autocast():\n"
     ]
    }
   ],
   "execution_count": 46
  },
  {
   "metadata": {
    "ExecuteTime": {
     "end_time": "2025-04-07T05:51:13.406130Z",
     "start_time": "2025-04-07T05:51:13.402696Z"
    }
   },
   "cell_type": "code",
   "source": "print(result)\n",
   "id": "b9ea79db7930e79c",
   "outputs": [
    {
     "name": "stdout",
     "output_type": "stream",
     "text": [
      "{'mcc': 0.4953320639713798, 'accuracy': 0.9662282015250294, 'f1_score': 0.7474085936210748, 'tp': 770, 'tn': 41173, 'fp': 669, 'fn': 797, 'auroc': 0.9102141303625358, 'auprc': 0.5025116383047372, 'eval_loss': 0.16170097528647076}\n"
     ]
    }
   ],
   "execution_count": 47
  },
  {
   "metadata": {
    "ExecuteTime": {
     "end_time": "2025-04-07T05:53:23.391485Z",
     "start_time": "2025-04-07T05:51:15.590825Z"
    }
   },
   "cell_type": "code",
   "source": "pred = model_distilbert.predict(test_df_data[\"Clean_txt\"].tolist())",
   "id": "a0f32e2354c83485",
   "outputs": [
    {
     "data": {
      "text/plain": [
       "  0%|          | 0/86 [00:00<?, ?it/s]"
      ],
      "application/vnd.jupyter.widget-view+json": {
       "version_major": 2,
       "version_minor": 0,
       "model_id": "24b1bb99889a4c988d0f9402528b0d3f"
      }
     },
     "metadata": {},
     "output_type": "display_data"
    },
    {
     "data": {
      "text/plain": [
       "  0%|          | 0/5427 [00:00<?, ?it/s]"
      ],
      "application/vnd.jupyter.widget-view+json": {
       "version_major": 2,
       "version_minor": 0,
       "model_id": "425516e31c514dce92e5283fa236fea6"
      }
     },
     "metadata": {},
     "output_type": "display_data"
    },
    {
     "name": "stderr",
     "output_type": "stream",
     "text": [
      "C:\\Users\\NashW\\PycharmProjects\\NeuralNetwork\\cuda\\lib\\site-packages\\simpletransformers\\classification\\classification_model.py:2188: FutureWarning: `torch.cuda.amp.autocast(args...)` is deprecated. Please use `torch.amp.autocast('cuda', args...)` instead.\n",
      "  with amp.autocast():\n"
     ]
    }
   ],
   "execution_count": 48
  },
  {
   "metadata": {
    "ExecuteTime": {
     "end_time": "2025-04-07T05:57:26.423786Z",
     "start_time": "2025-04-07T05:57:26.395628Z"
    }
   },
   "cell_type": "code",
   "source": [
    "y_test3 = test_df_data[\"anger\"].to_numpy()\n",
    "\n",
    "print(classification_report(y_test3,\n",
    "                            pred[0],\n",
    "                            digits=4,\n",
    "                            target_names=['Negative', 'Positive']))"
   ],
   "id": "f4ca40a0d68d964d",
   "outputs": [
    {
     "name": "stdout",
     "output_type": "stream",
     "text": [
      "              precision    recall  f1-score   support\n",
      "\n",
      "    Negative     0.9810    0.9840    0.9825     41842\n",
      "    Positive     0.5351    0.4914    0.5123      1567\n",
      "\n",
      "    accuracy                         0.9662     43409\n",
      "   macro avg     0.7581    0.7377    0.7474     43409\n",
      "weighted avg     0.9649    0.9662    0.9655     43409\n",
      "\n"
     ]
    }
   ],
   "execution_count": 55
  },
  {
   "metadata": {
    "ExecuteTime": {
     "end_time": "2025-04-07T05:57:32.731832Z",
     "start_time": "2025-04-07T05:57:32.578339Z"
    }
   },
   "cell_type": "code",
   "source": [
    "y_prediction_cm_1 = pred[0]\n",
    "cm1 = confusion_matrix(y_test3, y_prediction_cm_1)\n",
    "\n",
    "## Accuracy Per Matrix is under each Graph\n",
    "# Creating a heatmap visualization of the confusion matrix.\n",
    "ax = sns.heatmap(cm1,\n",
    "                annot=True,\n",
    "                fmt='d',\n",
    "                cmap='crest',\n",
    "                linewidth=1,\n",
    "                xticklabels=['Negative [0]', 'Positive [1]'],\n",
    "                yticklabels=['Negative [0]', 'Positive [1]'])\n",
    "\n",
    "## Configuring Orientation of labels\n",
    "ax.xaxis.tick_top()\n",
    "ax.set_yticklabels(ax.get_yticklabels(), rotation=0)\n",
    "\n",
    "\n",
    "accuracy_cm1 = np.sum(np.diag(cm1)) / np.sum(cm1)\n",
    "\n",
    "# Precision, Recall, and F1 Score Metrics\n",
    "precision_cm1 = precision_score(y_test3,\n",
    "                                y_prediction_cm_1,\n",
    "                                average='weighted',\n",
    "                                zero_division=0)\n",
    "\n",
    "\n",
    "recall_cm1 = recall_score(y_test3,\n",
    "                          y_prediction_cm_1,\n",
    "                          average='weighted')\n",
    "\n",
    "f1_cm1 = f1_score(y_test3,\n",
    "                  y_prediction_cm_1,\n",
    "                  average='weighted')\n",
    "\n",
    "\n",
    "plt.title(f\"Confusion Matrix Heatmap\\nDistilbert Predicting Anger \\\n",
    "\\n Accuracy-Score: {accuracy_cm1*100:.2f}%\\nPrecision: {precision_cm1*100:.2f}%\\n\\\n",
    "Recall: {recall_cm1*100:.2f}%\\nF1: {f1_cm1*100:.2f}%\\n\")\n",
    "plt.ylabel('<--True Label-->\\n')\n",
    "plt.xlabel('\\n<--Predicted Label-->')\n",
    "\n",
    "plt.show()\n",
    "\n",
    "## The Heatmap is flipped, but you are absolutely allowed to do so since our\n",
    "## diagonal is correct with TP and TN\n",
    "\n",
    "# 00 --> TN\n",
    "# 01 --> FP\n",
    "# 11 --> TP\n",
    "# 10 --> FN"
   ],
   "id": "ef1659d6ffb3f35d",
   "outputs": [
    {
     "data": {
      "text/plain": [
       "<Figure size 640x480 with 2 Axes>"
      ],
      "image/png": "[encoded data removed]"
     },
     "metadata": {},
     "output_type": "display_data"
    }
   ],
   "execution_count": 56
  },
  {
   "metadata": {
    "ExecuteTime": {
     "end_time": "2025-04-07T05:57:13.114151Z",
     "start_time": "2025-04-07T05:57:13.089970Z"
    }
   },
   "cell_type": "code",
   "source": [
    "y_test4 = test_df_data[\"surprise\"].to_numpy()\n",
    "\n",
    "print(classification_report(y_test4,\n",
    "                            pred[0],\n",
    "                            digits=4,\n",
    "                            target_names=['Negative', 'Positive']))"
   ],
   "id": "cb8e56f6e9dbf34a",
   "outputs": [
    {
     "name": "stdout",
     "output_type": "stream",
     "text": [
      "              precision    recall  f1-score   support\n",
      "\n",
      "    Negative     0.9751    0.9664    0.9707     42349\n",
      "    Positive     0.0097    0.0132    0.0112      1060\n",
      "\n",
      "    accuracy                         0.9431     43409\n",
      "   macro avg     0.4924    0.4898    0.4909     43409\n",
      "weighted avg     0.9515    0.9431    0.9473     43409\n",
      "\n"
     ]
    }
   ],
   "execution_count": 54
  },
  {
   "metadata": {
    "ExecuteTime": {
     "end_time": "2025-04-07T05:55:48.959142Z",
     "start_time": "2025-04-07T05:55:48.720794Z"
    }
   },
   "cell_type": "code",
   "source": [
    "y_prediction_cm_1 = pred[0]\n",
    "cm1 = confusion_matrix(y_test4, y_prediction_cm_1)\n",
    "\n",
    "## Accuracy Per Matrix is under each Graph\n",
    "# Creating a heatmap visualization of the confusion matrix.\n",
    "ax = sns.heatmap(cm1,\n",
    "                annot=True,\n",
    "                fmt='d',\n",
    "                cmap='crest',\n",
    "                linewidth=1,\n",
    "                xticklabels=['Negative [0]', 'Positive [1]'],\n",
    "                yticklabels=['Negative [0]', 'Positive [1]'])\n",
    "\n",
    "## Configuring Orientation of labels\n",
    "ax.xaxis.tick_top()\n",
    "ax.set_yticklabels(ax.get_yticklabels(), rotation=0)\n",
    "\n",
    "\n",
    "accuracy_cm1 = np.sum(np.diag(cm1)) / np.sum(cm1)\n",
    "\n",
    "# Precision, Recall, and F1 Score Metrics\n",
    "precision_cm1 = precision_score(y_test4,\n",
    "                                y_prediction_cm_1,\n",
    "                                average='weighted',\n",
    "                                zero_division=0)\n",
    "\n",
    "\n",
    "recall_cm1 = recall_score(y_test4,\n",
    "                          y_prediction_cm_1,\n",
    "                          average='weighted')\n",
    "\n",
    "f1_cm1 = f1_score(y_test4,\n",
    "                  y_prediction_cm_1,\n",
    "                  average='weighted')\n",
    "\n",
    "\n",
    "plt.title(f\"Confusion Matrix Heatmap\\nDistilbert Predicting Surprised \\\n",
    "\\n Accuracy-Score: {accuracy_cm1*100:.2f}%\\nPrecision: {precision_cm1*100:.2f}%\\n\\\n",
    "Recall: {recall_cm1*100:.2f}%\\nF1: {f1_cm1*100:.2f}%\\n\")\n",
    "plt.ylabel('<--True Label-->\\n')\n",
    "plt.xlabel('\\n<--Predicted Label-->')\n",
    "\n",
    "plt.show()\n",
    "\n",
    "## The Heatmap is flipped, but you are absolutely allowed to do so since our\n",
    "## diagonal is correct with TP and TN\n",
    "\n",
    "# 00 --> TN\n",
    "# 01 --> FP\n",
    "# 11 --> TP\n",
    "# 10 --> FN"
   ],
   "id": "bd6d8be1b2c55d73",
   "outputs": [
    {
     "data": {
      "text/plain": [
       "<Figure size 640x480 with 2 Axes>"
      ],
      "image/png": "[encoded data removed]"
     },
     "metadata": {},
     "output_type": "display_data"
    }
   ],
   "execution_count": 52
  }
 ],
 "metadata": {
  "kernelspec": {
   "display_name": "Python 3",
   "language": "python",
   "name": "python3"
  },
  "language_info": {
   "codemirror_mode": {
    "name": "ipython",
    "version": 2
   },
   "file_extension": ".py",
   "mimetype": "text/x-python",
   "name": "python",
   "nbconvert_exporter": "python",
   "pygments_lexer": "ipython2",
   "version": "2.7.6"
  }
 },
 "nbformat": 4,
 "nbformat_minor": 5
}
