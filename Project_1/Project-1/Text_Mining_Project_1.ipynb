{
  "cells": [
    {
      "cell_type": "markdown",
      "metadata": {
        "id": "gEI2f1LsmruH"
      },
      "source": [
        "# Steps\n",
        "\n",
        "1.   Clean/Pre-Process Data.\n",
        "2.   If data is one file, decide on how to use the records for train/testing.\n",
        "3.   **Tokenize/Transform the train data** into BoW (Bag Of Words); vocabulary, matrix.\n",
        "4.   **Build model (classifier) using train data** BoW matrix & Train labels.\n",
        "5.   Apply our model from prior step to test data --> predict labels of test records.\n",
        "6.   **Calculate any metrics** (accuracy, precision, recall, error-rate).\n",
        "\n",
        "---\n",
        "# For PDF Submission\n",
        "\n",
        "## Half Page Description for Each of the (2) Datasets (200 or so words)\n",
        "\n",
        "*   What are we trying to predict here? what do the class labels 0 and 1 represent? (see the Page above for my copy of the description of each dataset, just write 1-2 sentence summary for each dataset).\n",
        "*   How many records in each file (train vs dev)?\n",
        "*   How many records for each class label in each file (train vs dev)?\n",
        "*   The number of unique terms or tokens in each file (train vs dev). For this you can use the scikit-learn code we have already used for vectorizers, see the previous notebooks. There are other ways to do this and of course feel free to google or use other tools to find out. This particular part is only worth up to 2 points out of 10.\n",
        "\n",
        "\n",
        "\n",
        "\n"
      ]
    },
    {
      "cell_type": "markdown",
      "metadata": {
        "id": "jHz5y2WHXDPu"
      },
      "source": [
        "# **Project 1 Final Evaluation [Dr. K Review Here]**"
      ]
    },
    {
      "cell_type": "markdown",
      "metadata": {
        "id": "5uPXJNcooWV3"
      },
      "source": [
        "## **Corona Dataset**"
      ]
    },
    {
      "cell_type": "code",
      "execution_count": null,
      "metadata": {
        "id": "1-qiYe2KXJg0"
      },
      "outputs": [],
      "source": [
        "import pandas as pd\n",
        "import numpy as np\n",
        "\n",
        "## When needed\n",
        "import re\n",
        "\n",
        "## GitHub Raw files.\n",
        "\n",
        "# Corona Train CSV File\n",
        "corona_train = pd.read_csv('https://raw.githubusercontent.com/cs124/pa2-naive-bayes/refs/heads/main/data/coronavirus/train.csv', sep='|', names=['Text', 'Target'])\n",
        "\n",
        "# Corona Test CSV File\n",
        "corona_test = pd.read_csv('https://raw.githubusercontent.com/cs124/pa2-naive-bayes/refs/heads/main/data/coronavirus/dev.csv', sep='|', names=['Text', 'Target'])"
      ]
    },
    {
      "cell_type": "markdown",
      "metadata": {
        "id": "uYq5ecdNXiha"
      },
      "source": [
        "### **Corona Multinomial NB--> TF-IDF Vectorizer**"
      ]
    },
    {
      "cell_type": "code",
      "execution_count": null,
      "metadata": {
        "id": "Fj9Wh_gmXaoz"
      },
      "outputs": [],
      "source": [
        "# Testing\n",
        "corona_train = corona_train.drop(index=0)\n",
        "corona_train = corona_train[0:15000]"
      ]
    },
    {
      "cell_type": "code",
      "execution_count": null,
      "metadata": {
        "id": "pK8kdCqZk2ET"
      },
      "outputs": [],
      "source": [
        "corona_test= corona_test.drop(index=0)"
      ]
    },
    {
      "cell_type": "code",
      "execution_count": null,
      "metadata": {
        "colab": {
          "base_uri": "https://localhost:8080/",
          "height": 178
        },
        "id": "7a904gCKXbsg",
        "outputId": "ba625267-eba5-4be9-a964-af79b04a95b1"
      },
      "outputs": [
        {
          "output_type": "execute_result",
          "data": {
            "text/plain": [
              "Target\n",
              "0    7397\n",
              "1    7603\n",
              "Name: Target, dtype: int64"
            ],
            "text/html": [
              "<div>\n",
              "<style scoped>\n",
              "    .dataframe tbody tr th:only-of-type {\n",
              "        vertical-align: middle;\n",
              "    }\n",
              "\n",
              "    .dataframe tbody tr th {\n",
              "        vertical-align: top;\n",
              "    }\n",
              "\n",
              "    .dataframe thead th {\n",
              "        text-align: right;\n",
              "    }\n",
              "</style>\n",
              "<table border=\"1\" class=\"dataframe\">\n",
              "  <thead>\n",
              "    <tr style=\"text-align: right;\">\n",
              "      <th></th>\n",
              "      <th>Target</th>\n",
              "    </tr>\n",
              "    <tr>\n",
              "      <th>Target</th>\n",
              "      <th></th>\n",
              "    </tr>\n",
              "  </thead>\n",
              "  <tbody>\n",
              "    <tr>\n",
              "      <th>0</th>\n",
              "      <td>7397</td>\n",
              "    </tr>\n",
              "    <tr>\n",
              "      <th>1</th>\n",
              "      <td>7603</td>\n",
              "    </tr>\n",
              "  </tbody>\n",
              "</table>\n",
              "</div><br><label><b>dtype:</b> int64</label>"
            ]
          },
          "metadata": {},
          "execution_count": 66
        }
      ],
      "source": [
        "# Checking Labels\n",
        "label_groups = corona_train['Target'].groupby(corona_train['Target'])\n",
        "label_groups.count()"
      ]
    },
    {
      "cell_type": "code",
      "execution_count": null,
      "metadata": {
        "id": "qbCWoHFPXeBA"
      },
      "outputs": [],
      "source": [
        "from sklearn.model_selection import train_test_split\n",
        "## TF-IDF Training\n",
        "X_train, X_test, Y_train, Y_test = train_test_split(\n",
        "                                                    corona_test['Text'],\n",
        "                                                    corona_test['Target'],\n",
        "                                                    test_size=0.2,\n",
        "                                                    random_state=42\n",
        "                                                   )"
      ]
    },
    {
      "cell_type": "code",
      "execution_count": null,
      "metadata": {
        "id": "LQ1YTzMQX3Bt"
      },
      "outputs": [],
      "source": [
        "from sklearn.feature_extraction.text import TfidfVectorizer\n",
        "#TF-IDF Vectorizer Processing\n",
        "vectorize = TfidfVectorizer()\n",
        "X_train_tfidf = vectorize.fit_transform(X_train).toarray()\n",
        "X_test_tfidf = vectorize.transform(X_test).toarray()"
      ]
    },
    {
      "cell_type": "code",
      "execution_count": null,
      "metadata": {
        "id": "UvOfX3mjX3rx"
      },
      "outputs": [],
      "source": [
        "# Training our First Bayes Model\n",
        "from sklearn.naive_bayes import MultinomialNB\n",
        "model = MultinomialNB()\n",
        "model.fit(X_train_tfidf, Y_train)\n",
        "\n",
        "\n",
        "# Test Results\n",
        "Y_pred = model.predict(X_test_tfidf)"
      ]
    },
    {
      "cell_type": "code",
      "execution_count": null,
      "metadata": {
        "colab": {
          "base_uri": "https://localhost:8080/"
        },
        "id": "S6MaQdoNX8IL",
        "outputId": "e91e25c5-836c-4e7a-ef39-54a4f26abd2a"
      },
      "outputs": [
        {
          "output_type": "stream",
          "name": "stdout",
          "text": [
            "              precision    recall  f1-score   support\n",
            "\n",
            "    Negative     0.7263    0.8502    0.7834      1008\n",
            "    Positive     0.8159    0.6744    0.7384       992\n",
            "\n",
            "    accuracy                         0.7630      2000\n",
            "   macro avg     0.7711    0.7623    0.7609      2000\n",
            "weighted avg     0.7707    0.7630    0.7611      2000\n",
            "\n"
          ]
        }
      ],
      "source": [
        "from sklearn.metrics import classification_report\n",
        "from sklearn.metrics import confusion_matrix\n",
        "# Class report for First Bayes Model (1)\n",
        "print(classification_report(Y_test,\n",
        "                            Y_pred,\n",
        "                            digits=4,\n",
        "                            target_names=['Negative',\n",
        "                                          'Positive']))"
      ]
    },
    {
      "cell_type": "markdown",
      "metadata": {
        "id": "rKEB5BSPYJJ_"
      },
      "source": [
        "### **Corona Multinomial NB--> Count Vectorizer**"
      ]
    },
    {
      "cell_type": "code",
      "execution_count": null,
      "metadata": {
        "colab": {
          "base_uri": "https://localhost:8080/",
          "height": 178
        },
        "id": "1q1yCEy8YY41",
        "outputId": "e705798e-7f41-42b4-9b88-cd058c928bf6"
      },
      "outputs": [
        {
          "output_type": "execute_result",
          "data": {
            "text/plain": [
              "Target\n",
              "0    4963\n",
              "1    5037\n",
              "Name: Target, dtype: int64"
            ],
            "text/html": [
              "<div>\n",
              "<style scoped>\n",
              "    .dataframe tbody tr th:only-of-type {\n",
              "        vertical-align: middle;\n",
              "    }\n",
              "\n",
              "    .dataframe tbody tr th {\n",
              "        vertical-align: top;\n",
              "    }\n",
              "\n",
              "    .dataframe thead th {\n",
              "        text-align: right;\n",
              "    }\n",
              "</style>\n",
              "<table border=\"1\" class=\"dataframe\">\n",
              "  <thead>\n",
              "    <tr style=\"text-align: right;\">\n",
              "      <th></th>\n",
              "      <th>Target</th>\n",
              "    </tr>\n",
              "    <tr>\n",
              "      <th>Target</th>\n",
              "      <th></th>\n",
              "    </tr>\n",
              "  </thead>\n",
              "  <tbody>\n",
              "    <tr>\n",
              "      <th>0</th>\n",
              "      <td>4963</td>\n",
              "    </tr>\n",
              "    <tr>\n",
              "      <th>1</th>\n",
              "      <td>5037</td>\n",
              "    </tr>\n",
              "  </tbody>\n",
              "</table>\n",
              "</div><br><label><b>dtype:</b> int64</label>"
            ]
          },
          "metadata": {},
          "execution_count": 71
        }
      ],
      "source": [
        "# Random testing\n",
        "label = corona_test['Target'].groupby(corona_test['Target'])\n",
        "label.count()"
      ]
    },
    {
      "cell_type": "code",
      "execution_count": null,
      "metadata": {
        "id": "bKkBzI2qYes2"
      },
      "outputs": [],
      "source": [
        "# Vectorizer Count Training\n",
        "X_train_2, X_test_2, Y_train_2, Y_test_2 = train_test_split(\n",
        "                                                            corona_test['Text'],\n",
        "                                                            corona_test['Target'],\n",
        "                                                            test_size=0.2,\n",
        "                                                            random_state=42\n",
        "                                                           )\n",
        "\n",
        "from sklearn.feature_extraction.text import CountVectorizer\n",
        "\n",
        "vectorize = CountVectorizer()\n",
        "X_train_count = vectorize.fit_transform(X_train_2).toarray()\n",
        "X_test_count  = vectorize.transform(X_test_2).toarray()"
      ]
    },
    {
      "cell_type": "code",
      "execution_count": null,
      "metadata": {
        "id": "TuyVd9L_Yix3"
      },
      "outputs": [],
      "source": [
        "from sklearn.naive_bayes import MultinomialNB\n",
        "# Second Bayes Models\n",
        "clf_count = MultinomialNB()\n",
        "clf_count.fit(X_train_count, Y_train_2)\n",
        "pred = clf_count.predict(X_test_count)"
      ]
    },
    {
      "cell_type": "code",
      "execution_count": null,
      "metadata": {
        "id": "fU-ECuaXYkyT",
        "colab": {
          "base_uri": "https://localhost:8080/"
        },
        "outputId": "33441cbe-a52a-46ff-84c5-1f199441770a"
      },
      "outputs": [
        {
          "output_type": "stream",
          "name": "stdout",
          "text": [
            "              precision    recall  f1-score   support\n",
            "\n",
            "    Negative     0.7222    0.8046    0.7611      1008\n",
            "    Positive     0.7754    0.6855    0.7277       992\n",
            "\n",
            "    accuracy                         0.7455      2000\n",
            "   macro avg     0.7488    0.7450    0.7444      2000\n",
            "weighted avg     0.7486    0.7455    0.7445      2000\n",
            "\n"
          ]
        }
      ],
      "source": [
        "# Classification Report for Second Bayes Model (2)\n",
        "print(classification_report(Y_test_2,\n",
        "                            pred,\n",
        "                            digits=4,\n",
        "                            target_names=['Negative',\n",
        "                                          'Positive']))"
      ]
    },
    {
      "cell_type": "markdown",
      "metadata": {
        "id": "cMUD7GnYY6Un"
      },
      "source": [
        "### **Corona Decision Tree--> TF-IDF Vectorizer**"
      ]
    },
    {
      "cell_type": "code",
      "execution_count": null,
      "metadata": {
        "id": "lTfwnXKcZJ1n"
      },
      "outputs": [],
      "source": [
        "# ISAIAH STOP HEREEEEEEEEEEEEEEEEEEEE #\n",
        "# Decision Tree Model (1)\n",
        "from sklearn.tree import DecisionTreeClassifier\n",
        "\n",
        "dtc_1 = DecisionTreeClassifier(   random_state = 100,\n",
        "                                  max_depth=3,\n",
        "                                  min_samples_leaf=2)\n",
        "\n",
        "dtc_1.fit(X_train_tfidf, Y_train)\n",
        "y_pred_1 = dtc_1.predict(X_test_tfidf)"
      ]
    },
    {
      "cell_type": "code",
      "execution_count": null,
      "metadata": {
        "colab": {
          "base_uri": "https://localhost:8080/"
        },
        "id": "j-dX9aQAZMxX",
        "outputId": "d291282e-ad0c-4d6e-8aac-2e64ad80c4c4"
      },
      "outputs": [
        {
          "output_type": "stream",
          "name": "stdout",
          "text": [
            "              precision    recall  f1-score   support\n",
            "\n",
            "    Negative     0.7699    0.2589    0.3875      1008\n",
            "    Positive     0.5503    0.9214    0.6890       992\n",
            "\n",
            "    accuracy                         0.5875      2000\n",
            "   macro avg     0.6601    0.5901    0.5383      2000\n",
            "weighted avg     0.6610    0.5875    0.5371      2000\n",
            "\n"
          ]
        }
      ],
      "source": [
        "# Classification Report for Decision Tree Model (1)\n",
        "class_report_DT = classification_report(Y_test,\n",
        "                                        y_pred_1,\n",
        "                                        digits=4,\n",
        "                                        target_names=['Negative',\n",
        "                                                      'Positive'])\n",
        "print(class_report_DT)\n"
      ]
    },
    {
      "cell_type": "markdown",
      "metadata": {
        "id": "upTJE7L1ZOtH"
      },
      "source": [
        "### **Corona Decision Tree--> Count Vectorizer**"
      ]
    },
    {
      "cell_type": "code",
      "execution_count": null,
      "metadata": {
        "id": "rNZrTipcZTRm"
      },
      "outputs": [],
      "source": [
        "# Decision Tree Model (2)\n",
        "dtc_2 = DecisionTreeClassifier(random_state = 100, max_depth=3, min_samples_leaf=2)\n",
        "dtc_2.fit(X_train_count, Y_train_2)\n",
        "y_pred_2 = dtc_2.predict(X_test_count)\n"
      ]
    },
    {
      "cell_type": "code",
      "execution_count": null,
      "metadata": {
        "colab": {
          "base_uri": "https://localhost:8080/"
        },
        "id": "aYBo-QqxZT_M",
        "outputId": "d1974091-ee38-4e93-f41b-d040e0a69aff"
      },
      "outputs": [
        {
          "output_type": "stream",
          "name": "stdout",
          "text": [
            "              precision    recall  f1-score   support\n",
            "\n",
            "    Negative     0.7436    0.2302    0.3515      1008\n",
            "    Positive     0.5403    0.9194    0.6806       992\n",
            "\n",
            "    accuracy                         0.5720      2000\n",
            "   macro avg     0.6419    0.5748    0.5161      2000\n",
            "weighted avg     0.6428    0.5720    0.5147      2000\n",
            "\n"
          ]
        }
      ],
      "source": [
        "# Classification Report for Decision Tree Model (2)\n",
        "class_report_DT_2 = classification_report(Y_test_2,\n",
        "                                          y_pred_2,\n",
        "                                          digits=4,\n",
        "                                          target_names=['Negative',\n",
        "                                                        'Positive'])\n",
        "\n",
        "print(class_report_DT_2)\n"
      ]
    },
    {
      "cell_type": "markdown",
      "metadata": {
        "id": "cMckjFuSX_zJ"
      },
      "source": [
        "### **Corona Confusion Matrix w/ Heatmapping**"
      ]
    },
    {
      "cell_type": "code",
      "execution_count": null,
      "metadata": {
        "colab": {
          "base_uri": "https://localhost:8080/",
          "height": 613
        },
        "id": "C141CJtRYHm3",
        "outputId": "9329f4b3-caa7-4dd9-db67-b65792d11430"
      },
      "outputs": [
        {
          "output_type": "display_data",
          "data": {
            "text/plain": [
              "<Figure size 640x480 with 2 Axes>"
            ],
            "image/png": "[encoded data removed]"
          },
          "metadata": {}
        }
      ],
      "source": [
        "from seaborn import heatmap\n",
        "import seaborn as sns\n",
        "import matplotlib.pyplot as plt\n",
        "from sklearn.metrics import precision_score, recall_score, f1_score\n",
        "\n",
        "## TF-IDF Multinomial NB Data\n",
        "data = [X_train, X_test, Y_train, Y_test]\n",
        "\n",
        "y_prediction_cm_1 = Y_pred\n",
        "cm1 = confusion_matrix(data[3], y_prediction_cm_1)\n",
        "\n",
        "## Accuracy Per Matrix is under each Graph\n",
        "# Creating a heatmap visualization of the confusion matrix.\n",
        "ax = sns.heatmap(cm1,\n",
        "                annot=True,\n",
        "                fmt='d',\n",
        "                cmap='crest',\n",
        "                linewidth=1,\n",
        "                xticklabels=['Negative [0]', 'Positive [1]'],\n",
        "                yticklabels=['Negative [0]', 'Positive [1]'])\n",
        "\n",
        "## Configuring Orientation of labels\n",
        "ax.xaxis.tick_top()\n",
        "ax.set_yticklabels(ax.get_yticklabels(), rotation=0)\n",
        "\n",
        "\n",
        "accuracy_cm1 = np.sum(np.diag(cm1)) / np.sum(cm1)\n",
        "\n",
        "# Precision, Recall, and F1 Score Metrics\n",
        "precision_cm1 = precision_score(data[3],\n",
        "                                y_prediction_cm_1,\n",
        "                                average='weighted',\n",
        "                                zero_division=0)\n",
        "\n",
        "\n",
        "recall_cm1 = recall_score(data[3], y_prediction_cm_1, average='weighted')\n",
        "f1_cm1 = f1_score(data[3], y_prediction_cm_1, average='weighted')\n",
        "\n",
        "\n",
        "plt.title(f\"Confusion Matrix Heatmap\\nCorona TF-IDF Multinomial NB \\\n",
        "\\n Accuracy-Score: {accuracy_cm1*100:.2f}%\\nPrecision: {precision_cm1*100:.2f}%\\n\\\n",
        "Recall: {recall_cm1*100:.2f}%\\nF1: {f1_cm1*100:.2f}%\\n\")\n",
        "plt.ylabel('<--True Label-->\\n')\n",
        "plt.xlabel('\\n<--Predicted Label-->')\n",
        "\n",
        "plt.show()\n",
        "\n",
        "## The Heatmap is flipped, but you are absolutely allowed to do so since our\n",
        "## diagonal is correct with TP and TN\n",
        "\n",
        "# 00 --> TN\n",
        "# 01 --> FP\n",
        "# 11 --> TP\n",
        "# 10 --> FN"
      ]
    },
    {
      "cell_type": "markdown",
      "source": [
        "## Triage Dataset"
      ],
      "metadata": {
        "id": "syDCdRZaD3Uw"
      }
    },
    {
      "cell_type": "code",
      "source": [
        "#Libraries\n",
        "import pandas as pd\n",
        "import numpy as np\n",
        "import re\n",
        "\n",
        "# Triage Train CSV\n",
        "triage_train = pd.read_csv ('https://raw.githubusercontent.com/cs124/pa2-naive-bayes/refs/heads/main/data/triage/train.csv', sep='|', names=['Text', 'Label'])\n",
        "\n",
        "# Triage Test/Dev CSV\n",
        "triage_dev = pd.read_csv('https://raw.githubusercontent.com/cs124/pa2-naive-bayes/refs/heads/main/data/triage/dev.csv', sep='|', names=['Text', 'Label'])"
      ],
      "metadata": {
        "id": "Xm_vllQnGJhf"
      },
      "execution_count": null,
      "outputs": []
    },
    {
      "cell_type": "markdown",
      "source": [
        "### TF-IDF & Count Vectorizer NB"
      ],
      "metadata": {
        "id": "v1EZo4LjEJkJ"
      }
    },
    {
      "cell_type": "code",
      "source": [
        "label = triage_dev['Label'].groupby(triage_dev['Label'])\n",
        "label.count()"
      ],
      "metadata": {
        "id": "o-UcDh6cEOtJ",
        "colab": {
          "base_uri": "https://localhost:8080/",
          "height": 209
        },
        "outputId": "ce2a1c50-ffbb-4b52-844e-9e8fce1dbf21"
      },
      "execution_count": null,
      "outputs": [
        {
          "output_type": "execute_result",
          "data": {
            "text/plain": [
              "Label\n",
              "0        1525\n",
              "1        1048\n",
              "Label       1\n",
              "Name: Label, dtype: int64"
            ],
            "text/html": [
              "<div>\n",
              "<style scoped>\n",
              "    .dataframe tbody tr th:only-of-type {\n",
              "        vertical-align: middle;\n",
              "    }\n",
              "\n",
              "    .dataframe tbody tr th {\n",
              "        vertical-align: top;\n",
              "    }\n",
              "\n",
              "    .dataframe thead th {\n",
              "        text-align: right;\n",
              "    }\n",
              "</style>\n",
              "<table border=\"1\" class=\"dataframe\">\n",
              "  <thead>\n",
              "    <tr style=\"text-align: right;\">\n",
              "      <th></th>\n",
              "      <th>Label</th>\n",
              "    </tr>\n",
              "    <tr>\n",
              "      <th>Label</th>\n",
              "      <th></th>\n",
              "    </tr>\n",
              "  </thead>\n",
              "  <tbody>\n",
              "    <tr>\n",
              "      <th>0</th>\n",
              "      <td>1525</td>\n",
              "    </tr>\n",
              "    <tr>\n",
              "      <th>1</th>\n",
              "      <td>1048</td>\n",
              "    </tr>\n",
              "    <tr>\n",
              "      <th>Label</th>\n",
              "      <td>1</td>\n",
              "    </tr>\n",
              "  </tbody>\n",
              "</table>\n",
              "</div><br><label><b>dtype:</b> int64</label>"
            ]
          },
          "metadata": {},
          "execution_count": 36
        }
      ]
    },
    {
      "cell_type": "code",
      "source": [
        "from sklearn.model_selection import train_test_split\n",
        "triage_dev['Text'] = triage_dev['Text'].fillna('')\n",
        "X_train_3, X_test_3, Y_train_3, Y_test_3 = train_test_split(\n",
        "                                                            triage_dev['Text'],\n",
        "                                                            triage_dev['Label'],\n",
        "                                                            test_size=0.2,\n",
        "                                                            random_state=42\n",
        "                                                           )\n",
        "\n"
      ],
      "metadata": {
        "id": "6gPhwId3ObFp"
      },
      "execution_count": null,
      "outputs": []
    },
    {
      "cell_type": "code",
      "source": [
        "from sklearn.feature_extraction.text import TfidfVectorizer\n",
        "from sklearn.feature_extraction.text import CountVectorizer\n",
        "#TF-IDF Vectorizer Processing\n",
        "vectorize = TfidfVectorizer()\n",
        "count_vectorize = CountVectorizer()\n",
        "X_train_tfidf = vectorize.fit_transform(X_train_3).toarray()\n",
        "X_test_tfidf = vectorize.transform(X_test_3).toarray()\n",
        "\n",
        "#Count Vectorizer Processing\n",
        "X_train_count = count_vectorize.fit_transform(X_train_3).toarray()\n",
        "X_test_count = count_vectorize.transform(X_test_3).toarray()"
      ],
      "metadata": {
        "id": "kEqhU12X2GXD"
      },
      "execution_count": null,
      "outputs": []
    },
    {
      "cell_type": "code",
      "source": [
        "from sklearn.naive_bayes import MultinomialNB\n",
        "# Second Bayes Models\n",
        "clf_TF = MultinomialNB()\n",
        "clf_TF.fit(X_train_tfidf, Y_train_3)\n",
        "\n",
        "#Test Results for TF-IDF\n",
        "Y_pred_TF = clf_TF.predict(X_test_tfidf)"
      ],
      "metadata": {
        "id": "IUAaZt8hOeDt"
      },
      "execution_count": null,
      "outputs": []
    },
    {
      "cell_type": "code",
      "source": [
        "clf_count = MultinomialNB()\n",
        "clf_count.fit(X_train_count, Y_train_3)\n",
        "\n",
        "#Test Results for Count\n",
        "y_pred_count = clf_count.predict(X_test_count)"
      ],
      "metadata": {
        "id": "XneSbh9n0tkh"
      },
      "execution_count": null,
      "outputs": []
    },
    {
      "cell_type": "code",
      "source": [
        "from sklearn.metrics import classification_report\n",
        "from sklearn.metrics import confusion_matrix\n",
        "\n",
        "#Classification Report for TF Bayes Model\n",
        "print(classification_report(Y_test_3,\n",
        "                            Y_pred_TF,\n",
        "                            digits=4,\n",
        "                            target_names=['No aid',\n",
        "                                          'Aid']))"
      ],
      "metadata": {
        "colab": {
          "base_uri": "https://localhost:8080/"
        },
        "id": "dmOScxBmOfto",
        "outputId": "4429aa50-1b57-4dc5-9ce9-14ac46dffb25"
      },
      "execution_count": null,
      "outputs": [
        {
          "output_type": "stream",
          "name": "stdout",
          "text": [
            "              precision    recall  f1-score   support\n",
            "\n",
            "      No aid     0.6753    0.8792    0.7638       298\n",
            "         Aid     0.7165    0.4194    0.5291       217\n",
            "\n",
            "    accuracy                         0.6854       515\n",
            "   macro avg     0.6959    0.6493    0.6465       515\n",
            "weighted avg     0.6927    0.6854    0.6649       515\n",
            "\n"
          ]
        }
      ]
    },
    {
      "cell_type": "code",
      "source": [
        "#Classification Report for Count Bayes Model\n",
        "print(classification_report(Y_test_3,\n",
        "                            y_pred_count,\n",
        "                            digits=4,\n",
        "                            target_names=['No aid',\n",
        "                                          'Aid']))"
      ],
      "metadata": {
        "colab": {
          "base_uri": "https://localhost:8080/"
        },
        "id": "7PHnAtE21SPw",
        "outputId": "85386de0-c2cc-4ba6-9a57-87113949e29b"
      },
      "execution_count": null,
      "outputs": [
        {
          "output_type": "stream",
          "name": "stdout",
          "text": [
            "              precision    recall  f1-score   support\n",
            "\n",
            "      No aid     0.7819    0.6376    0.7024       298\n",
            "         Aid     0.6029    0.7558    0.6708       217\n",
            "\n",
            "    accuracy                         0.6874       515\n",
            "   macro avg     0.6924    0.6967    0.6866       515\n",
            "weighted avg     0.7065    0.6874    0.6891       515\n",
            "\n"
          ]
        }
      ]
    },
    {
      "cell_type": "markdown",
      "source": [
        "### Decision Tree TF-IDF"
      ],
      "metadata": {
        "id": "tvo_LuSJEPX6"
      }
    },
    {
      "cell_type": "code",
      "source": [
        "from sklearn.tree import DecisionTreeClassifier\n",
        "dtc_3 = DecisionTreeClassifier(random_state = 100, max_depth=3, min_samples_leaf=2)\n",
        "\n",
        "\n",
        "dtc_3.fit(X_train_tfidf, Y_train_3)\n",
        "y_pred_dtc_3 = dtc_3.predict(X_test_tfidf)"
      ],
      "metadata": {
        "id": "VMHGwFsVETYL"
      },
      "execution_count": null,
      "outputs": []
    },
    {
      "cell_type": "code",
      "source": [
        "class_report_DT_3 = classification_report(Y_test_3,\n",
        "                                          y_pred_dtc_3,\n",
        "                                          digits=4,\n",
        "                                          target_names=['No aid',\n",
        "                                                        'Aid'])\n",
        "\n",
        "print(class_report_DT_3)\n",
        "\n"
      ],
      "metadata": {
        "colab": {
          "base_uri": "https://localhost:8080/"
        },
        "id": "rk6hSZ2L1zfD",
        "outputId": "7f8325a1-e335-4856-f70f-b109df1a4de9"
      },
      "execution_count": null,
      "outputs": [
        {
          "output_type": "stream",
          "name": "stdout",
          "text": [
            "              precision    recall  f1-score   support\n",
            "\n",
            "      No aid     0.6490    0.9430    0.7688       298\n",
            "         Aid     0.7927    0.2995    0.4348       217\n",
            "\n",
            "    accuracy                         0.6718       515\n",
            "   macro avg     0.7208    0.6212    0.6018       515\n",
            "weighted avg     0.7095    0.6718    0.6281       515\n",
            "\n"
          ]
        }
      ]
    },
    {
      "cell_type": "markdown",
      "source": [
        "### Decision Tree Count"
      ],
      "metadata": {
        "id": "1ZkWWbnrETlz"
      }
    },
    {
      "cell_type": "code",
      "source": [
        "dtc_4 = DecisionTreeClassifier(random_state = 100, max_depth=3, min_samples_leaf=2)\n",
        "dtc_4.fit(X_train_count, Y_train_3)\n",
        "y_pred_dtc_4 = dtc_4.predict(X_test_count)"
      ],
      "metadata": {
        "id": "sn5qoVAjEXsK"
      },
      "execution_count": null,
      "outputs": []
    },
    {
      "cell_type": "code",
      "source": [
        "class_report_DT_4 = classification_report(Y_test_3,\n",
        "                                          y_pred_dtc_4,\n",
        "                                          digits=4,\n",
        "                                          target_names=['No aid',\n",
        "                                                        'Aid'])\n",
        "\n",
        "print(class_report_DT_4)"
      ],
      "metadata": {
        "colab": {
          "base_uri": "https://localhost:8080/"
        },
        "id": "x424aD7T2Qhm",
        "outputId": "4fae0796-64a4-4b0c-9540-5734a1e8f6e0"
      },
      "execution_count": null,
      "outputs": [
        {
          "output_type": "stream",
          "name": "stdout",
          "text": [
            "              precision    recall  f1-score   support\n",
            "\n",
            "      No aid     0.6505    0.9430    0.7699       298\n",
            "         Aid     0.7952    0.3041    0.4400       217\n",
            "\n",
            "    accuracy                         0.6738       515\n",
            "   macro avg     0.7228    0.6236    0.6049       515\n",
            "weighted avg     0.7114    0.6738    0.6309       515\n",
            "\n"
          ]
        }
      ]
    },
    {
      "cell_type": "markdown",
      "source": [
        "### Triage Confusion Matrix w/ Heatmapping"
      ],
      "metadata": {
        "id": "uA1a-GeO2q6J"
      }
    },
    {
      "cell_type": "code",
      "source": [
        "from seaborn import heatmap\n",
        "import seaborn as sns\n",
        "import matplotlib.pyplot as plt\n",
        "from sklearn.metrics import precision_score, recall_score, f1_score\n",
        "\n",
        "## Count Multinomial NB Data\n",
        "data = [X_train_3, X_test_3, Y_train_3, Y_test_3]\n",
        "\n",
        "y_prediction_cm_2 = y_pred_count\n",
        "cm2 = confusion_matrix(data[3], y_prediction_cm_2)\n",
        "\n",
        "## Accuracy Per Matrix is under each Graph\n",
        "# Creating a heatmap visualization of the confusion matrix.\n",
        "ax = sns.heatmap(cm2,\n",
        "                annot=True,\n",
        "                fmt='d',\n",
        "                cmap='rainbow',\n",
        "                linewidth=1,\n",
        "                xticklabels=['No Aid [0]', 'Aid [1]'],\n",
        "                yticklabels=['No Aid [0]', 'Aid [1]'])\n",
        "\n",
        "## Configuring Orientation of labels\n",
        "ax.xaxis.tick_top()\n",
        "ax.set_yticklabels(ax.get_yticklabels(), rotation=0)\n",
        "\n",
        "\n",
        "accuracy_cm2 = np.sum(np.diag(cm2)) / np.sum(cm2)\n",
        "\n",
        "# Precision, Recall, and F1 Score Metrics\n",
        "precision_cm2 = precision_score(data[3],\n",
        "                                y_prediction_cm_2,\n",
        "                                average='weighted',\n",
        "                                zero_division=0)\n",
        "\n",
        "\n",
        "recall_cm2 = recall_score(data[3], y_prediction_cm_2, average='weighted')\n",
        "f1_cm2 = f1_score(data[3], y_prediction_cm_2, average='weighted')\n",
        "\n",
        "\n",
        "plt.title(f\"Confusion Matrix Heatmap\\nTriage Count Multinomial NB \\\n",
        "\\n Accuracy-Score: {accuracy_cm2*100:.2f}%\\nPrecision: {precision_cm2*100:.2f}%\\n\\\n",
        "Recall: {recall_cm2*100:.2f}%\\nF1: {f1_cm2*100:.2f}%\\n\")\n",
        "plt.ylabel('<--True Label-->\\n')\n",
        "plt.xlabel('\\n<--Predicted Label-->')\n",
        "\n",
        "plt.show()\n"
      ],
      "metadata": {
        "colab": {
          "base_uri": "https://localhost:8080/",
          "height": 613
        },
        "id": "Bza3XJuO22r7",
        "outputId": "99f40481-67de-4375-ab41-d34d70f2bb95"
      },
      "execution_count": null,
      "outputs": [
        {
          "output_type": "display_data",
          "data": {
            "text/plain": [
              "<Figure size 640x480 with 2 Axes>"
            ],
            "image/png": "[encoded data removed]"
          },
          "metadata": {}
        }
      ]
    },
    {
      "cell_type": "markdown",
      "metadata": {
        "id": "6UcEfmcRXqN_"
      },
      "source": [
        "# **Project 1 Initial Evaluation**"
      ]
    },
    {
      "cell_type": "markdown",
      "metadata": {
        "id": "PykT2mJUlRxF"
      },
      "source": [
        "## Coronavirus Dataset"
      ]
    },
    {
      "cell_type": "code",
      "execution_count": null,
      "metadata": {
        "id": "ZBREnDXrlYpm"
      },
      "outputs": [],
      "source": [
        "import pandas as pd\n",
        "import numpy as np\n",
        "\n",
        "## When needed\n",
        "import re\n",
        "\n",
        "## GitHub Raw files.\n",
        "\n",
        "# Corona Train CSV File\n",
        "corona_train = pd.read_csv('https://raw.githubusercontent.com/cs124/pa2-naive-bayes/refs/heads/main/data/coronavirus/train.csv')\n",
        "\n",
        "# Corona Test CSV File\n",
        "corona_test = pd.read_csv('https://raw.githubusercontent.com/cs124/pa2-naive-bayes/refs/heads/main/data/coronavirus/dev.csv')"
      ]
    },
    {
      "cell_type": "code",
      "execution_count": null,
      "metadata": {
        "collapsed": true,
        "id": "jFAVcXH_mWI0"
      },
      "outputs": [],
      "source": [
        "# Initial mess-around with the data\n",
        "\n",
        "## Train dataset has 80k records\n",
        "print(f'{corona_train.info()}\\n---Corona Train Information Above---\\n\\n')\n",
        "\n",
        "## Test dataset has 10k records\n",
        "print(f'{corona_test.info()}\\n---Corona Test/Dev Information Above---')"
      ]
    },
    {
      "cell_type": "code",
      "execution_count": null,
      "metadata": {
        "id": "vebqM-DT5JiL"
      },
      "outputs": [],
      "source": []
    },
    {
      "cell_type": "code",
      "execution_count": null,
      "metadata": {
        "collapsed": true,
        "id": "iHyBc6sci0FG"
      },
      "outputs": [],
      "source": [
        "# Testing splits between positive and negative categories for TRAIN dataset.\n",
        "## 0's indicate negative comments\n",
        "## 1's indicate positive comments\n",
        "negative_train = [i for i in corona_train['Text|Label'] if i.endswith('|0')]\n",
        "positive_train = [i for i in corona_train['Text|Label'] if i.endswith('|1')]\n",
        "\n",
        "## Convert to dataframes to check how many records for each specific class label\n",
        "# This Allows you to rename the column\n",
        "# Mapping Binary values here for classification.\n",
        "neg_train_DF = pd.DataFrame({0: negative_train}).reset_index(drop=True)\n",
        "pos_train_DF = pd.DataFrame({1: positive_train}).reset_index(drop=True)"
      ]
    },
    {
      "cell_type": "code",
      "execution_count": null,
      "metadata": {
        "id": "cDcPbST3tZJ4"
      },
      "outputs": [],
      "source": [
        "# Testing splits between positive and negative categories for TEST dataset.\n",
        "## 0's indicate negative comments\n",
        "## 1's indicate positive comments\n",
        "negative_test = [i for i in corona_test['Text|Label'] if i.endswith('|0')]\n",
        "positive_test = [i for i in corona_test['Text|Label'] if i.endswith('|1')]\n",
        "\n",
        "\n",
        "## Checking how many records are for each specific class label for TEST set.\n",
        "neg_test_DF = pd.DataFrame({0: negative_test}).reset_index(drop=True)\n",
        "pos_test_DF = pd.DataFrame({1: positive_test}).reset_index(drop=True)"
      ]
    },
    {
      "cell_type": "code",
      "execution_count": null,
      "metadata": {
        "collapsed": true,
        "id": "OrH1s3n6QrAb"
      },
      "outputs": [],
      "source": [
        "## Recombined dataframes through concatenation w/ labeled columns\n",
        "# Taking 30k from each specific class label for TRAIN set.\n",
        "\n",
        "## This sets us up for classification and our predictions.\n",
        "\n",
        "# 2/3 Train\n",
        "train_set = pd.concat([\n",
        "                         neg_train_DF[0:14999],\n",
        "                         pos_train_DF[15000:29999]\n",
        "                      ], axis=0)\n",
        "\n",
        "# 1/3 Test\n",
        "test_set = pd.concat([\n",
        "                         neg_test_DF[0:10000],\n",
        "                         pos_test_DF[0:10000]\n",
        "                      ], axis=1).dropna()\n",
        "\n",
        "# I want to print the entirety of the Negative Train Column\n",
        "#train_set.iloc[:, 0]\n",
        "\n",
        "## Positive Column\n",
        "#train_set.iloc[:, 1]\n",
        "\n",
        "## Negative Column\n",
        "#train_set.iloc[:, 0]\n",
        "train_set"
      ]
    },
    {
      "cell_type": "code",
      "execution_count": null,
      "metadata": {
        "id": "ajY8sybV101G"
      },
      "outputs": [],
      "source": [
        "train_set['target'] = train_set['target'].map({neg_train_DF: 0, positive_train: 1})"
      ]
    },
    {
      "cell_type": "code",
      "execution_count": null,
      "metadata": {
        "collapsed": true,
        "id": "Qao3g8eKolxG"
      },
      "outputs": [],
      "source": [
        "## Positive TRAIN dataset has 41,163 records\n",
        "pos_train_DF.info()"
      ]
    },
    {
      "cell_type": "code",
      "execution_count": null,
      "metadata": {
        "collapsed": true,
        "id": "-G9iiFXUpklc"
      },
      "outputs": [],
      "source": [
        "## Negative TRAIN dataset has 38,837 records which when added equal our 80k.\n",
        "neg_train_DF.info()"
      ]
    },
    {
      "cell_type": "code",
      "execution_count": null,
      "metadata": {
        "collapsed": true,
        "id": "dlNjNAJYtzCQ"
      },
      "outputs": [],
      "source": [
        "## Positive TEST dataset has 5,037 records\n",
        "pos_test_DF.info()"
      ]
    },
    {
      "cell_type": "code",
      "execution_count": null,
      "metadata": {
        "collapsed": true,
        "id": "QQW0bDcPt6EJ"
      },
      "outputs": [],
      "source": [
        "## Negative TEST dataset has 4,963 records, totalling 10k which matches up.\n",
        "neg_test_DF.info()"
      ]
    },
    {
      "cell_type": "code",
      "execution_count": null,
      "metadata": {
        "id": "fg1JXqlmKHtN"
      },
      "outputs": [],
      "source": [
        "## 81,647 Unique Tokens in our entire TRAIN dataset.\n",
        "from sklearn.feature_extraction.text import CountVectorizer\n",
        "\n",
        "vectorizer = CountVectorizer()\n",
        "\n",
        "train_transformation = vectorizer.fit_transform(corona_train['Text|Label'])\n",
        "\n",
        "train_tokens = len(vectorizer.vocabulary_)\n",
        "train_tokens\n",
        "\n"
      ]
    },
    {
      "cell_type": "code",
      "execution_count": null,
      "metadata": {
        "id": "eSqviaEmMTA7"
      },
      "outputs": [],
      "source": [
        "# 23,035 Unique Tokens in our entire TEST dataset.\n",
        "test_transformation = vectorizer.fit_transform(corona_test['Text|Label'])\n",
        "\n",
        "test_tokens = len(vectorizer.vocabulary_)\n",
        "\n",
        "test_tokens"
      ]
    },
    {
      "cell_type": "markdown",
      "metadata": {
        "id": "BdxwTGkJapPq"
      },
      "source": [
        "\n",
        "---\n",
        "## **Page Break**\n",
        "---\n"
      ]
    },
    {
      "cell_type": "markdown",
      "metadata": {
        "id": "dgyDw2XolVqk"
      },
      "source": [
        "## Triage Dataset"
      ]
    },
    {
      "cell_type": "code",
      "execution_count": null,
      "metadata": {
        "id": "gftH_5GPlZJm",
        "colab": {
          "base_uri": "https://localhost:8080/",
          "height": 148
        },
        "outputId": "a474ba76-b2e7-45f2-c67c-8cc0d147fd1f"
      },
      "outputs": [
        {
          "output_type": "error",
          "ename": "SyntaxError",
          "evalue": "closing parenthesis ')' does not match opening parenthesis '[' (<ipython-input-14-f04161c8615c>, line 7)",
          "traceback": [
            "\u001b[0;36m  File \u001b[0;32m\"<ipython-input-14-f04161c8615c>\"\u001b[0;36m, line \u001b[0;32m7\u001b[0m\n\u001b[0;31m    triage_train = pd.read_csv ('https://raw.githubusercontent.com/cs124/pa2-naive-bayes/refs/heads/main/data/triage/train.csv', sep='|', names=['Text', 'Label')\u001b[0m\n\u001b[0m                                                                                                                                                                ^\u001b[0m\n\u001b[0;31mSyntaxError\u001b[0m\u001b[0;31m:\u001b[0m closing parenthesis ')' does not match opening parenthesis '['\n"
          ]
        }
      ],
      "source": [
        "#Libraries\n",
        "import pandas as pd\n",
        "import numpy as np\n",
        "import re\n",
        "\n",
        "# Triage Train CSV\n",
        "triage_train = pd.read_csv ('https://raw.githubusercontent.com/cs124/pa2-naive-bayes/refs/heads/main/data/triage/train.csv')\n",
        "\n",
        "# Triage Test/Dev CSV\n",
        "triage_dev = pd.read_csv('https://raw.githubusercontent.com/cs124/pa2-naive-bayes/refs/heads/main/data/triage/dev.csv')"
      ]
    },
    {
      "cell_type": "code",
      "execution_count": null,
      "metadata": {
        "id": "zMkFuDeawXyD"
      },
      "outputs": [],
      "source": [
        "# Initial mess-around with the data\n",
        "\n",
        "## Train dataset has\n",
        "print(f'{triage_train.info()}\\n---Triage Train Information Above---\\n\\n')\n",
        "\n",
        "## Test dataset has records\n",
        "print(f'{triage_dev.info()}\\n---triage Test/Dev Information Above---')"
      ]
    },
    {
      "cell_type": "code",
      "execution_count": null,
      "metadata": {
        "id": "R3-ZibY3wXvs"
      },
      "outputs": [],
      "source": [
        "#Splitting aid-related (class aid) and not aid-related (class not) - TRAIN DATASET\n",
        "# 0's indicate not aid-related text\n",
        "# 1's indicate aid-related text\n",
        "class_not_train = [i for i in triage_train['Text|Label'] if i.endswith('|0')]\n",
        "class_aid_train = [i for i in triage_train['Text|Label'] if i.endswith('|1')]\n",
        "\n",
        "## Convert to dataframes to check how many records for each specific class label\n",
        "class_not_train_DF = pd.DataFrame({0: class_not_train}).reset_index(drop=True)\n",
        "class_aid_train_DF = pd.DataFrame({1: class_aid_train}).reset_index(drop=True)\n",
        "\n",
        "##class_not_train_DF\n",
        "class_aid_train_DF"
      ]
    },
    {
      "cell_type": "code",
      "execution_count": null,
      "metadata": {
        "id": "AuBsB6bewXn7"
      },
      "outputs": [],
      "source": [
        "#Splitting aid-related (class aid) and not aid-related (class not)-TEST/DEV DATA SET\n",
        "# 0's indicate not aid-related text\n",
        "# 1's indicate aid-related text\n",
        "class_not_dev = [i for i in triage_dev['Text|Label'] if i.endswith('|0')]\n",
        "class_aid_dev = [i for i in triage_dev['Text|Label'] if i.endswith('|1')]\n",
        "\n",
        "## Convert to dataframes to check how many records for each specific class label\n",
        "class_not_dev_DF = pd.DataFrame({0: class_not_dev}).reset_index(drop=True)\n",
        "class_aid_dev_DF = pd.DataFrame({1: class_aid_dev}).reset_index(drop=True)"
      ]
    },
    {
      "cell_type": "code",
      "execution_count": null,
      "metadata": {
        "id": "wAt5hsH1abzu"
      },
      "outputs": [],
      "source": [
        "## Recombined dataframes through concatenation w/ labeled columns\n",
        "# Taking 30k from each specific class label for TRAIN dataset.\n",
        "\n",
        "## This sets us up for classification and our predictions.\n",
        "\n",
        "# 2/3 Train\n",
        "train_set = pd.concat([\n",
        "                         class_not_train_DF[0:5000],\n",
        "                         class_aid_train_DF[0:5000]\n",
        "                      ], axis=1)\n",
        "\n",
        "# 1/3 Test\n",
        "dev_set = pd.concat([\n",
        "                         class_not_dev_DF[0: 1500],\n",
        "                         class_aid_dev_DF[0: 1500]\n",
        "                      ], axis=1).dropna()\n",
        "\n",
        "\n",
        "# I want to print the entirety of the Not aid related Train Column\n",
        "#train_set.iloc[:, 0]\n",
        "\n",
        "## Positive Column\n",
        "#train_set.iloc[:, 1]\n",
        "\n",
        "## Negative Column\n",
        "#train_set.iloc[:, 0]\n",
        "\n",
        "train_set\n",
        "\n",
        "\n"
      ]
    },
    {
      "cell_type": "code",
      "execution_count": null,
      "metadata": {
        "id": "z_L3LGQ8-oNc"
      },
      "outputs": [],
      "source": [
        "# Aid-related TRAIN dataset has 8685 records\n",
        "class_aid_train_DF.info()"
      ]
    },
    {
      "cell_type": "code",
      "execution_count": null,
      "metadata": {
        "id": "Kx6GLuxG-uwS"
      },
      "outputs": [],
      "source": [
        "# Not aid-related TRAIN dataset has 12361 records\n",
        "class_not_train_DF.info()"
      ]
    },
    {
      "cell_type": "code",
      "execution_count": null,
      "metadata": {
        "id": "BPknBlBk-utr"
      },
      "outputs": [],
      "source": [
        "# Aid-related TEST/DEV data set has 1048 records\n",
        "class_aid_dev_DF.info()"
      ]
    },
    {
      "cell_type": "code",
      "execution_count": null,
      "metadata": {
        "id": "5_v5hSwe-ujW"
      },
      "outputs": [],
      "source": [
        "# Not aid-related TEST/DEV data set has 1525 records\n",
        "class_not_dev_DF.info()"
      ]
    },
    {
      "cell_type": "code",
      "execution_count": null,
      "metadata": {
        "id": "4SvsJf1s_tbq"
      },
      "outputs": [],
      "source": [
        "# 31211 unique tokens in TRAIN dataset\n",
        "from sklearn.feature_extraction.text import CountVectorizer\n",
        "\n",
        "vectorizer = CountVectorizer()\n",
        "\n",
        "train_transformation = vectorizer.fit_transform(triage_train['Text|Label'])\n",
        "\n",
        "train_tokens = len(vectorizer.vocabulary_)\n",
        "train_tokens\n"
      ]
    },
    {
      "cell_type": "code",
      "execution_count": null,
      "metadata": {
        "id": "7KwhdPN4_6jO"
      },
      "outputs": [],
      "source": [
        "# 10145 unique tokens in TEST/DEV dataset\n",
        "dev_transformation = vectorizer.fit_transform(triage_dev['Text|Label'])\n",
        "\n",
        "dev_tokens = len(vectorizer.vocabulary_)\n",
        "\n",
        "dev_tokens"
      ]
    },
    {
      "cell_type": "code",
      "source": [],
      "metadata": {
        "id": "nyxxf6CO_ueP"
      },
      "execution_count": null,
      "outputs": []
    },
    {
      "cell_type": "code",
      "source": [],
      "metadata": {
        "id": "WYIMJAJMCzz9"
      },
      "execution_count": null,
      "outputs": []
    },
    {
      "cell_type": "code",
      "source": [],
      "metadata": {
        "id": "C84fL0zADAss"
      },
      "execution_count": null,
      "outputs": []
    }
  ],
  "metadata": {
    "colab": {
      "collapsed_sections": [
        "6UcEfmcRXqN_",
        "PykT2mJUlRxF",
        "dgyDw2XolVqk"
      ],
      "provenance": []
    },
    "kernelspec": {
      "display_name": "Python 3",
      "name": "python3"
    },
    "language_info": {
      "name": "python"
    }
  },
  "nbformat": 4,
  "nbformat_minor": 0
}